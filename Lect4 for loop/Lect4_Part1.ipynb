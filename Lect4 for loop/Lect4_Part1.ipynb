{
 "cells": [
  {
   "cell_type": "markdown",
   "metadata": {},
   "source": [
    "Центр непрерывного образования\n",
    "\n",
    "# Программа «Python для автоматизации и анализа данных»"
   ]
  },
  {
   "cell_type": "markdown",
   "metadata": {},
   "source": [
    "## Вспомним строки, списки, кортежи, множества\n",
    "\n",
    "[CheatSheet](https://dfedorov.spb.ru/pandas/cheatsheet/Python_Notes.pdf)"
   ]
  },
  {
   "cell_type": "code",
   "execution_count": 1,
   "metadata": {},
   "outputs": [],
   "source": [
    "a = 'Это какая-то строка для преобразований.'"
   ]
  },
  {
   "cell_type": "code",
   "execution_count": 4,
   "metadata": {},
   "outputs": [
    {
     "name": "stdout",
     "output_type": "stream",
     "text": [
      "['Э', 'т', 'о', ' ', 'к', 'а', 'к', 'а', 'я', '-', 'т', 'о', ' ', 'с', 'т', 'р', 'о', 'к', 'а', ' ', 'д', 'л', 'я', ' ', 'п', 'р', 'е', 'о', 'б', 'р', 'а', 'з', 'о', 'в', 'а', 'н', 'и', 'й', '.']\n"
     ]
    }
   ],
   "source": [
    "print(list(a))"
   ]
  },
  {
   "cell_type": "code",
   "execution_count": 5,
   "metadata": {},
   "outputs": [
    {
     "name": "stdout",
     "output_type": "stream",
     "text": [
      "['Это', 'какая-то', 'строка', 'для', 'преобразований.']\n"
     ]
    }
   ],
   "source": [
    "print(a.split())"
   ]
  },
  {
   "cell_type": "code",
   "execution_count": 6,
   "metadata": {},
   "outputs": [
    {
     "name": "stdout",
     "output_type": "stream",
     "text": [
      "('Э', 'т', 'о', ' ', 'к', 'а', 'к', 'а', 'я', '-', 'т', 'о', ' ', 'с', 'т', 'р', 'о', 'к', 'а', ' ', 'д', 'л', 'я', ' ', 'п', 'р', 'е', 'о', 'б', 'р', 'а', 'з', 'о', 'в', 'а', 'н', 'и', 'й', '.')\n"
     ]
    }
   ],
   "source": [
    "print(tuple(a))"
   ]
  },
  {
   "cell_type": "code",
   "execution_count": 7,
   "metadata": {},
   "outputs": [
    {
     "name": "stdout",
     "output_type": "stream",
     "text": [
      "{' ', 'л', 'т', 'р', 'й', '-', 'в', '.', 'д', 'п', 'а', 'б', 'к', 'и', 'я', 'о', 'н', 'Э', 'с', 'е', 'з'}\n"
     ]
    }
   ],
   "source": [
    "print(set(a))"
   ]
  },
  {
   "cell_type": "code",
   "execution_count": 12,
   "metadata": {},
   "outputs": [
    {
     "data": {
      "text/plain": [
       "{'Это': 1, 'какая-то': 1, 'строка': 1, 'для': 1, 'преобразований.': 1}"
      ]
     },
     "execution_count": 12,
     "metadata": {},
     "output_type": "execute_result"
    }
   ],
   "source": [
    "dict.fromkeys(a.split(), 1)"
   ]
  },
  {
   "cell_type": "markdown",
   "metadata": {
    "id": "nkBj5Zg7BkoG"
   },
   "source": [
    "## Словари\n"
   ]
  },
  {
   "cell_type": "markdown",
   "metadata": {
    "id": "VUzAmsF7Bvm6"
   },
   "source": [
    "### Первый способ создать словарь:"
   ]
  },
  {
   "cell_type": "code",
   "execution_count": 1,
   "metadata": {
    "id": "YfmKvrh7B8ms"
   },
   "outputs": [],
   "source": [
    "# Пустой словарь\n",
    "empty_dict = {}\n",
    "# Словарь с двумя парами ключ-значение\n",
    "value_dict = {'cat': 'кошка', 'dog': \"собака\"}"
   ]
  },
  {
   "cell_type": "code",
   "execution_count": 2,
   "metadata": {},
   "outputs": [
    {
     "data": {
      "text/plain": [
       "dict"
      ]
     },
     "execution_count": 2,
     "metadata": {},
     "output_type": "execute_result"
    }
   ],
   "source": [
    "type(value_dict)"
   ]
  },
  {
   "cell_type": "markdown",
   "metadata": {
    "id": "FUrf4uzDCDnm"
   },
   "source": [
    "### Второй способ создать словарь:"
   ]
  },
  {
   "cell_type": "code",
   "execution_count": 7,
   "metadata": {
    "id": "lO8FFoZgBu4n"
   },
   "outputs": [],
   "source": [
    "dct = dict(cat='кошка', dog=\"собака\")"
   ]
  },
  {
   "cell_type": "code",
   "execution_count": 8,
   "metadata": {
    "colab": {
     "base_uri": "https://localhost:8080/"
    },
    "id": "pEeLYtUJBp3C",
    "outputId": "1ebf7033-38dd-49fb-8597-77d3a2823e93"
   },
   "outputs": [
    {
     "data": {
      "text/plain": [
       "{'cat': 'кошка', 'dog': 'собака'}"
      ]
     },
     "execution_count": 8,
     "metadata": {},
     "output_type": "execute_result"
    }
   ],
   "source": [
    "dct"
   ]
  },
  {
   "cell_type": "markdown",
   "metadata": {
    "id": "ATccfIIQCiFh"
   },
   "source": [
    "## Вернуть значение ключа"
   ]
  },
  {
   "cell_type": "code",
   "execution_count": 10,
   "metadata": {
    "colab": {
     "base_uri": "https://localhost:8080/",
     "height": 35
    },
    "id": "MAC8aHOyClgf",
    "outputId": "e311a550-a0f3-44ed-fa07-679628029616"
   },
   "outputs": [
    {
     "data": {
      "text/plain": [
       "'кошка'"
      ]
     },
     "execution_count": 10,
     "metadata": {},
     "output_type": "execute_result"
    }
   ],
   "source": [
    "dct.get(\"cat\")"
   ]
  },
  {
   "cell_type": "markdown",
   "metadata": {
    "id": "aWYMVDjYCyZ2"
   },
   "source": [
    "### Вернуть пары"
   ]
  },
  {
   "cell_type": "code",
   "execution_count": 11,
   "metadata": {
    "colab": {
     "base_uri": "https://localhost:8080/"
    },
    "id": "-ycna0t4C1T-",
    "outputId": "a6435541-81f0-4182-98a9-445a639c4ad6"
   },
   "outputs": [
    {
     "data": {
      "text/plain": [
       "dict_items([('cat', 'кошка'), ('dog', 'собака')])"
      ]
     },
     "execution_count": 11,
     "metadata": {},
     "output_type": "execute_result"
    }
   ],
   "source": [
    "dct.items()"
   ]
  },
  {
   "cell_type": "markdown",
   "metadata": {
    "id": "mRxbeI_7C6jc"
   },
   "source": [
    "### Вернуть ключи"
   ]
  },
  {
   "cell_type": "code",
   "execution_count": 14,
   "metadata": {
    "colab": {
     "base_uri": "https://localhost:8080/"
    },
    "id": "Tmrk0VxRDAOZ",
    "outputId": "e7cab3fa-cc51-4be6-ac21-0adff69a4193"
   },
   "outputs": [
    {
     "data": {
      "text/plain": [
       "dict_keys(['cat', 'dog'])"
      ]
     },
     "execution_count": 14,
     "metadata": {},
     "output_type": "execute_result"
    }
   ],
   "source": [
    "dct.keys()"
   ]
  },
  {
   "cell_type": "markdown",
   "metadata": {
    "id": "-VoZCjzKGkPa"
   },
   "source": [
    "### Вернуть значения"
   ]
  },
  {
   "cell_type": "code",
   "execution_count": 13,
   "metadata": {
    "colab": {
     "base_uri": "https://localhost:8080/"
    },
    "id": "LSSViuD0Gma0",
    "outputId": "17af3e47-cb54-40f2-8b8b-27f8e9abfa95"
   },
   "outputs": [
    {
     "data": {
      "text/plain": [
       "dict_values(['кошка', 'собака'])"
      ]
     },
     "execution_count": 13,
     "metadata": {},
     "output_type": "execute_result"
    }
   ],
   "source": [
    "dct.values()"
   ]
  },
  {
   "cell_type": "code",
   "execution_count": 15,
   "metadata": {
    "colab": {
     "base_uri": "https://localhost:8080/"
    },
    "id": "38aXc_hDGtkP",
    "outputId": "37320fdb-c1de-4cab-bd4d-08d1018d1975"
   },
   "outputs": [
    {
     "name": "stdout",
     "output_type": "stream",
     "text": [
      "яблоко\n",
      "яблоко\n",
      "dict_items([('apple', 'яблоко'), ('pineapple', 'ананас')])\n",
      "dict_keys(['apple', 'pineapple'])\n",
      "{'pineapple': 'ананас'}\n",
      "{'pineapple': 'ананас', 'cherry': 'вишня'}\n"
     ]
    }
   ],
   "source": [
    "# Создать словарь\n",
    "df = dict(apple='яблоко', pineapple=\"ананас\")\n",
    "\n",
    "# Получить значение по ключу\n",
    "print(df['apple'])\n",
    "\n",
    "# Получить значение по ключу\n",
    "print(df.get('apple'))\n",
    "\n",
    "# Получить пары ключ-значение\n",
    "print(df.items())\n",
    "\n",
    "# Получить все ключи в словаре\n",
    "print(df.keys())\n",
    "\n",
    "# Получить значение по ключу, после чего удалить\n",
    "df.pop('apple')\n",
    "print(df)\n",
    "\n",
    "# Добавить новое значение в словарь\n",
    "df['cherry'] = 'вишня'\n",
    "print(df)"
   ]
  },
  {
   "cell_type": "markdown",
   "metadata": {},
   "source": [
    "# Пример применения словарей"
   ]
  },
  {
   "cell_type": "markdown",
   "metadata": {},
   "source": [
    "Найдем пять самых часто встречающихся слова в утверждениях Zen of Python"
   ]
  },
  {
   "cell_type": "code",
   "execution_count": 3,
   "metadata": {},
   "outputs": [
    {
     "name": "stdout",
     "output_type": "stream",
     "text": [
      "The Zen of Python, by Tim Peters\n",
      "\n",
      "Beautiful is better than ugly.\n",
      "Explicit is better than implicit.\n",
      "Simple is better than complex.\n",
      "Complex is better than complicated.\n",
      "Flat is better than nested.\n",
      "Sparse is better than dense.\n",
      "Readability counts.\n",
      "Special cases aren't special enough to break the rules.\n",
      "Although practicality beats purity.\n",
      "Errors should never pass silently.\n",
      "Unless explicitly silenced.\n",
      "In the face of ambiguity, refuse the temptation to guess.\n",
      "There should be one-- and preferably only one --obvious way to do it.\n",
      "Although that way may not be obvious at first unless you're Dutch.\n",
      "Now is better than never.\n",
      "Although never is often better than *right* now.\n",
      "If the implementation is hard to explain, it's a bad idea.\n",
      "If the implementation is easy to explain, it may be a good idea.\n",
      "Namespaces are one honking great idea -- let's do more of those!\n"
     ]
    }
   ],
   "source": [
    "import this"
   ]
  },
  {
   "cell_type": "markdown",
   "metadata": {},
   "source": [
    "Создадим переменную <b>zen</b>, куда считаем все утверждения:"
   ]
  },
  {
   "cell_type": "code",
   "execution_count": 4,
   "metadata": {},
   "outputs": [],
   "source": [
    "zen = '''Beautiful is better than ugly.\n",
    "Explicit is better than implicit.\n",
    "Simple is better than complex.\n",
    "Complex is better than complicated.\n",
    "Flat is better than nested.\n",
    "Sparse is better than dense.\n",
    "Readability counts.\n",
    "Special cases aren't special enough to break the rules.\n",
    "Although practicality beats purity.\n",
    "Errors should never pass silently.\n",
    "Unless explicitly silenced.\n",
    "In the face of ambiguity, refuse the temptation to guess.\n",
    "There should be one-- and preferably only one --obvious way to do it.\n",
    "Although that way may not be obvious at first unless you're Dutch.\n",
    "Now is better than never.\n",
    "Although never is often better than *right* now.\n",
    "If the implementation is hard to explain, it's a bad idea.\n",
    "If the implementation is easy to explain, it may be a good idea.\n",
    "Namespaces are one honking great idea -- let's do more of those!'''"
   ]
  },
  {
   "cell_type": "code",
   "execution_count": 5,
   "metadata": {},
   "outputs": [
    {
     "name": "stdout",
     "output_type": "stream",
     "text": [
      "['Beautiful', 'is', 'better', 'than', 'ugly.', 'Explicit', 'is', 'better', 'than', 'implicit.', 'Simple', 'is', 'better', 'than', 'complex.', 'Complex', 'is', 'better', 'than', 'complicated.', 'Flat', 'is', 'better', 'than', 'nested.', 'Sparse', 'is', 'better', 'than', 'dense.', 'Readability', 'counts.', 'Special', 'cases', \"aren't\", 'special', 'enough', 'to', 'break', 'the', 'rules.', 'Although', 'practicality', 'beats', 'purity.', 'Errors', 'should', 'never', 'pass', 'silently.', 'Unless', 'explicitly', 'silenced.', 'In', 'the', 'face', 'of', 'ambiguity,', 'refuse', 'the', 'temptation', 'to', 'guess.', 'There', 'should', 'be', 'one--', 'and', 'preferably', 'only', 'one', '--obvious', 'way', 'to', 'do', 'it.', 'Although', 'that', 'way', 'may', 'not', 'be', 'obvious', 'at', 'first', 'unless', \"you're\", 'Dutch.', 'Now', 'is', 'better', 'than', 'never.', 'Although', 'never', 'is', 'often', 'better', 'than', '*right*', 'now.', 'If', 'the', 'implementation', 'is', 'hard', 'to', 'explain,', \"it's\", 'a', 'bad', 'idea.', 'If', 'the', 'implementation', 'is', 'easy', 'to', 'explain,', 'it', 'may', 'be', 'a', 'good', 'idea.', 'Namespaces', 'are', 'one', 'honking', 'great', 'idea', '--', \"let's\", 'do', 'more', 'of', 'those!']\n"
     ]
    }
   ],
   "source": [
    "print(zen.split())"
   ]
  },
  {
   "cell_type": "markdown",
   "metadata": {},
   "source": [
    "Разобьем данную строку на слова и очистим от знаков. Очищенные слова будем поочередно добавлять в словарь zen_map. В качестве ключей в этом словаре будут выступать слова, а значениями - частота использования слов.   "
   ]
  },
  {
   "cell_type": "code",
   "execution_count": 4,
   "metadata": {},
   "outputs": [
    {
     "name": "stdout",
     "output_type": "stream",
     "text": [
      "{'beautiful': 1, 'is': 10, 'better': 8, 'than': 8, 'ugly': 1, 'explicit': 1, 'implicit': 1, 'simple': 1, 'complex': 2, 'complicated': 1, 'flat': 1, 'nested': 1, 'sparse': 1, 'dense': 1, 'readability': 1, 'counts': 1, 'special': 2, 'cases': 1, \"aren't\": 1, 'enough': 1, 'to': 5, 'break': 1, 'the': 5, 'rules': 1, 'although': 3, 'practicality': 1, 'beats': 1, 'purity': 1, 'errors': 1, 'should': 2, 'never': 3, 'pass': 1, 'silently': 1, 'unless': 2, 'explicitly': 1, 'silenced': 1, 'in': 1, 'face': 1, 'of': 2, 'ambiguity': 1, 'refuse': 1, 'temptation': 1, 'guess': 1, 'there': 1, 'be': 3, 'one': 3, 'and': 1, 'preferably': 1, 'only': 1, 'obvious': 2, 'way': 2, 'do': 2, 'it': 2, 'that': 1, 'may': 2, 'not': 1, 'at': 1, 'first': 1, \"you're\": 1, 'dutch': 1, 'now': 2, 'often': 1, 'right': 1, 'if': 2, 'implementation': 2, 'hard': 1, 'explain': 2, \"it's\": 1, 'a': 2, 'bad': 1, 'idea': 3, 'easy': 1, 'good': 1, 'namespaces': 1, 'are': 1, 'honking': 1, 'great': 1, '': 1, \"let's\": 1, 'more': 1, 'those': 1}\n"
     ]
    }
   ],
   "source": [
    "zen_map = dict()\n",
    "\n",
    "for word in zen.split():\n",
    "    cleaned_word = word.strip('.,!-*').lower()\n",
    "    \n",
    "    if cleaned_word not in zen_map: \n",
    "        zen_map[cleaned_word] = 0           # если слово ранее не встречалось, добавляем в словарь\n",
    "        \n",
    "    zen_map[cleaned_word] += 1              # увеличиваем счетчик слов\n",
    "    \n",
    "print(zen_map)"
   ]
  },
  {
   "cell_type": "code",
   "execution_count": 9,
   "metadata": {},
   "outputs": [
    {
     "name": "stdout",
     "output_type": "stream",
     "text": [
      "{'beautiful': 1, 'better': 8, 'ugly': 1, 'explicit': 1, 'implicit': 1, 'simple': 1, 'complex': 2, 'complicated': 1, 'flat': 1, 'nested': 1, 'sparse': 1, 'dense': 1, 'readability': 1, 'counts': 1, 'special': 2, 'cases': 1, \"aren't\": 1, 'enough': 1, 'break': 1, 'rules': 1, 'although': 3, 'practicality': 1, 'beats': 1, 'purity': 1, 'errors': 1, 'should': 2, 'never': 3, 'pass': 1, 'silently': 1, 'unless': 2, 'explicitly': 1, 'silenced': 1, 'face': 1, 'ambiguity': 1, 'refuse': 1, 'temptation': 1, 'guess': 1, 'be': 3, 'one': 3, 'preferably': 1, 'only': 1, 'obvious': 2, 'way': 2, 'do': 2, 'it': 2, 'that': 1, 'may': 2, 'first': 1, \"you're\": 1, 'dutch': 1, 'now': 2, 'often': 1, 'right': 1, 'implementation': 2, 'hard': 1, 'explain': 2, \"it's\": 1, 'a': 2, 'bad': 1, 'idea': 3, 'easy': 1, 'good': 1, 'namespaces': 1, 'are': 1, 'honking': 1, 'great': 1, '': 1, \"let's\": 1, 'more': 1, 'those': 1}\n"
     ]
    }
   ],
   "source": [
    "# вариант программы, которая создает словарь без \"сорных\" слов\n",
    "zen_map = dict()\n",
    "\n",
    "for word in zen.split():\n",
    "    cleared_word = word.strip('.,!-*').lower()\n",
    "    \n",
    "    if cleared_word not in zen_map:\n",
    "        if cleared_word not in ('this', 'is','and', 'not', 'to', 'the', 'in', 'of','for', 'than', 'there', 'at', 'if'):\n",
    "            zen_map[cleared_word] = 1\n",
    "    else:\n",
    "        zen_map[cleared_word] += 1\n",
    "        \n",
    "print(zen_map)"
   ]
  },
  {
   "cell_type": "code",
   "execution_count": 10,
   "metadata": {},
   "outputs": [
    {
     "data": {
      "text/plain": [
       "dict_items([('beautiful', 1), ('better', 8), ('ugly', 1), ('explicit', 1), ('implicit', 1), ('simple', 1), ('complex', 2), ('complicated', 1), ('flat', 1), ('nested', 1), ('sparse', 1), ('dense', 1), ('readability', 1), ('counts', 1), ('special', 2), ('cases', 1), (\"aren't\", 1), ('enough', 1), ('break', 1), ('rules', 1), ('although', 3), ('practicality', 1), ('beats', 1), ('purity', 1), ('errors', 1), ('should', 2), ('never', 3), ('pass', 1), ('silently', 1), ('unless', 2), ('explicitly', 1), ('silenced', 1), ('face', 1), ('ambiguity', 1), ('refuse', 1), ('temptation', 1), ('guess', 1), ('be', 3), ('one', 3), ('preferably', 1), ('only', 1), ('obvious', 2), ('way', 2), ('do', 2), ('it', 2), ('that', 1), ('may', 2), ('first', 1), (\"you're\", 1), ('dutch', 1), ('now', 2), ('often', 1), ('right', 1), ('implementation', 2), ('hard', 1), ('explain', 2), (\"it's\", 1), ('a', 2), ('bad', 1), ('idea', 3), ('easy', 1), ('good', 1), ('namespaces', 1), ('are', 1), ('honking', 1), ('great', 1), ('', 1), (\"let's\", 1), ('more', 1), ('those', 1)])"
      ]
     },
     "execution_count": 10,
     "metadata": {},
     "output_type": "execute_result"
    }
   ],
   "source": [
    "zen_map.items() "
   ]
  },
  {
   "cell_type": "markdown",
   "metadata": {},
   "source": [
    "Ключи и значения не упорядочены, поэтому организуем сортировку. Для этого можно воспользоваться методом `items()`. Так мы получим `zen_items`  - список кортежей. Элементами кортежа будут - (ключ, значение).\n",
    "\n",
    "Функция `itemgetter()` из модуля `operator` используется для выбора и извлечения элементов из итерируемого объекта (например, словаря) на основе их индексов или ключей."
   ]
  },
  {
   "cell_type": "code",
   "execution_count": 8,
   "metadata": {},
   "outputs": [
    {
     "name": "stdout",
     "output_type": "stream",
     "text": [
      "('better', 8) ('although', 3) ('never', 3) ('be', 3) ('one', 3)\n"
     ]
    }
   ],
   "source": [
    "import operator\n",
    "\n",
    "zen_items = zen_map.items() \n",
    "# print(list(zen_items))\n",
    "\n",
    "word_count_items = sorted(zen_items, key=operator.itemgetter(1), reverse=True)\n",
    "\n",
    "print(*word_count_items[:5])"
   ]
  },
  {
   "cell_type": "markdown",
   "metadata": {},
   "source": [
    "Однако, как это часто бывает в Python, уже есть встроенный модуль, который поможет решить эту задачу проще:"
   ]
  },
  {
   "cell_type": "code",
   "execution_count": 20,
   "metadata": {},
   "outputs": [
    {
     "name": "stdout",
     "output_type": "stream",
     "text": [
      "[('better', 8), ('although', 3), ('never', 3), ('be', 3), ('one', 3)]\n"
     ]
    }
   ],
   "source": [
    "from collections import Counter\n",
    "\n",
    "cleaned_list = []\n",
    "\n",
    "for word in zen.split():\n",
    "    cleared_word = word.strip('.,!-*').lower() # очищаем строку от знаков и приводим к нижнему регистру\n",
    "    if cleared_word not in ('this', 'is','and', 'not', 'to', 'the', 'in', 'of','for', 'than', 'there', 'at', 'if'):\n",
    "        cleaned_list.append(cleared_word)\n",
    "    \n",
    "    \n",
    "print(Counter(cleaned_list).most_common(5)) # вызываем Counter и обращаемся к методу most_common"
   ]
  },
  {
   "cell_type": "markdown",
   "metadata": {},
   "source": [
    "## Задача 1\n",
    "\n",
    "Дан словарь с числовыми значениями. Необходимо их все перемножить и вывести на экран результат"
   ]
  },
  {
   "cell_type": "code",
   "execution_count": 11,
   "metadata": {},
   "outputs": [
    {
     "data": {
      "text/plain": [
       "dict_values(['375', '567.2', '-37', '21'])"
      ]
     },
     "execution_count": 11,
     "metadata": {},
     "output_type": "execute_result"
    }
   ],
   "source": [
    "my_dictionary = {'data1': '375', 'data2': '567.2', 'data3': '-37', \n",
    "                 'data4': '21'}\n",
    "\n",
    "my_dictionary.values()"
   ]
  },
  {
   "cell_type": "code",
   "execution_count": 17,
   "metadata": {},
   "outputs": [],
   "source": [
    "l = list(map(float, my_dictionary.values()))"
   ]
  },
  {
   "cell_type": "code",
   "execution_count": 22,
   "metadata": {},
   "outputs": [
    {
     "name": "stdout",
     "output_type": "stream",
     "text": [
      "0\n",
      "1\n",
      "2\n",
      "3\n",
      "-165267900.00000003\n"
     ]
    }
   ],
   "source": [
    "cnt = 0\n",
    "f = 1\n",
    "while cnt < len(l):\n",
    "    print(cnt)\n",
    "    f *= l[cnt]\n",
    "    cnt+=1\n",
    "print(f)\n",
    "    "
   ]
  },
  {
   "cell_type": "markdown",
   "metadata": {},
   "source": [
    "## Задача 2\n",
    "\n",
    "Артем ведет учет всех фильмов которые он посмотрел за год. Он ведет свой учет в следующем формате:\n",
    "\n",
    "<месяц просмотра>-<название фильма>\n",
    "\n",
    "Когда он перечислит все фильмы, то пишет КОНЕЦ\n",
    "\n",
    "Сделайте статистику по интенсивности просмотров фильмов Артемом, которая будет включать в себя\n",
    "\n",
    "месяц когда он посмотрел максимальное количество фильмов (если таких месяцев несколько выведите все) \\\n",
    "месяц когда он посмотрел минимальное количество фильмов количество фильмов (если таких месяцев несколько выведите все) \\\n",
    "гарантируется, что интенсивность просмотра фильмов не равномерная \\\n",
    "сколько в среднем в месяц Артем смотрит фильмов, ответ округлите до 2х знаков после запятой\n",
    "\n",
    "Для примера:\n",
    "\n",
    "**ВВОД**\n",
    "\n",
    "1-Аватар \\\n",
    "2-День независимости \\\n",
    "5-Мулан \\\n",
    "1-Титаник \\\n",
    "12-Ирония судьбы \\\n",
    "10-Мимино \\\n",
    "КОНЕЦ\n",
    "\n",
    "**ВЫВОД**\n",
    "\n",
    "Всего за год вы посмотрели 6 фильм(а/ов) \\\n",
    "Больше всего фильмов вы посмотрели в январе \\\n",
    "Меньше всего фильмов вы посмотрели в феврале, мае, октябре, декабре \\\n",
    "В среднем в месяц вы смотрите 0.5 фильм(а/ов)\n"
   ]
  },
  {
   "cell_type": "code",
   "execution_count": 36,
   "metadata": {},
   "outputs": [
    {
     "name": "stdout",
     "output_type": "stream",
     "text": [
      "9-Барашек ШОЕ\n",
      "9-Побег из курятника\n",
      "6-ооооо\n",
      "8-Алиса в стране чудес\n",
      "7-ППППППП\n",
      "6-ООРШ\n",
      "9-ЛЛЛЛЛЛ\n",
      "КОНЕЦ\n",
      "Всего за год вы посмотрели: 7 фильмов\n",
      "Больше всего фильмов вы посмотрели в сентябре\n"
     ]
    }
   ],
   "source": [
    "import operator\n",
    "\n",
    "mon = {1: 'январе', 2:'феврале', 3: 'марте', 4: 'апреле', 5:'мае', 6: 'июне',\n",
    "       7:'июле', 8:'августе', 9:'сентябре', 10:'октябре', 11:'ноябре', \n",
    "       12:'декабре'}\n",
    "\n",
    "flm_dict = dict()\n",
    "\n",
    "while True:\n",
    "    film = input()\n",
    "    if film == 'КОНЕЦ':\n",
    "        break\n",
    "    film_split = film.split('-')\n",
    "    if film_split[0] not in flm_dict:\n",
    "        flm_dict[film_split[0]]=1 \n",
    "        #print(100, flm_dict)\n",
    "    else:\n",
    "        flm_dict[film_split[0]]+=1\n",
    "        #print(200)\n",
    "    \n",
    "cnt_year = sum(flm_dict.values())\n",
    "most_res = sorted(flm_dict.items(), key=operator.itemgetter(1), reverse=True)[0]\n",
    "min_res = sorted(flm_dict.items(), key=operator.itemgetter(1), reverse=False)[:3]\n",
    "#avf_year = sum(flm_dict.values())/count(flm_dict.keys())\n",
    "\n",
    "print(f'Всего за год вы посмотрели: {cnt_year} фильмов')\n",
    "print(f'Больше всего фильмов вы посмотрели в {mon[int(most_res[0][0])]}')\n",
    "#print(f'Меньше всего фильмов вы посмотрели в {mon[int(most_res[0][1])]}')\n",
    "#print(f'В среднем в мес вы смотрите {avf_year} фильмов')\n",
    "    "
   ]
  },
  {
   "cell_type": "code",
   "execution_count": 13,
   "metadata": {},
   "outputs": [
    {
     "data": {
      "text/plain": [
       "4"
      ]
     },
     "execution_count": 13,
     "metadata": {},
     "output_type": "execute_result"
    }
   ],
   "source": [
    "sum(flm_dict.values())"
   ]
  },
  {
   "cell_type": "code",
   "execution_count": 24,
   "metadata": {},
   "outputs": [
    {
     "data": {
      "text/plain": [
       "[('8', 1), ('7', 3)]"
      ]
     },
     "execution_count": 24,
     "metadata": {},
     "output_type": "execute_result"
    }
   ],
   "source": [
    "import operator\n",
    "most_res = sorted(flm_dict.items(), key=operator.itemgetter(1), reverse=False)[:3]\n",
    "most_res"
   ]
  },
  {
   "cell_type": "code",
   "execution_count": 27,
   "metadata": {},
   "outputs": [
    {
     "ename": "TypeError",
     "evalue": "unhashable type: 'list'",
     "output_type": "error",
     "traceback": [
      "\u001b[1;31m---------------------------------------------------------------------------\u001b[0m",
      "\u001b[1;31mTypeError\u001b[0m                                 Traceback (most recent call last)",
      "Input \u001b[1;32mIn [27]\u001b[0m, in \u001b[0;36m<cell line: 1>\u001b[1;34m()\u001b[0m\n\u001b[1;32m----> 1\u001b[0m \u001b[38;5;28mprint\u001b[39m(\u001b[38;5;124mf\u001b[39m\u001b[38;5;124m'\u001b[39m\u001b[38;5;124mБольше всего фильмов вы посмотрели в \u001b[39m\u001b[38;5;132;01m{\u001b[39;00mmon[most_res]\u001b[38;5;132;01m}\u001b[39;00m\u001b[38;5;124m'\u001b[39m)\n",
      "\u001b[1;31mTypeError\u001b[0m: unhashable type: 'list'"
     ]
    }
   ],
   "source": [
    "print(f'Больше всего фильмов вы посмотрели в [most_res]')"
   ]
  },
  {
   "cell_type": "code",
   "execution_count": 33,
   "metadata": {},
   "outputs": [
    {
     "data": {
      "text/plain": [
       "'августе'"
      ]
     },
     "execution_count": 33,
     "metadata": {},
     "output_type": "execute_result"
    }
   ],
   "source": [
    "mon[int(most_res[0][0])]"
   ]
  },
  {
   "cell_type": "code",
   "execution_count": 32,
   "metadata": {},
   "outputs": [
    {
     "data": {
      "text/plain": [
       "'августе'"
      ]
     },
     "execution_count": 32,
     "metadata": {},
     "output_type": "execute_result"
    }
   ],
   "source": [
    "mon[8]"
   ]
  },
  {
   "cell_type": "code",
   "execution_count": 35,
   "metadata": {},
   "outputs": [
    {
     "ename": "NameError",
     "evalue": "name 'count' is not defined",
     "output_type": "error",
     "traceback": [
      "\u001b[1;31m---------------------------------------------------------------------------\u001b[0m",
      "\u001b[1;31mNameError\u001b[0m                                 Traceback (most recent call last)",
      "Input \u001b[1;32mIn [35]\u001b[0m, in \u001b[0;36m<cell line: 1>\u001b[1;34m()\u001b[0m\n\u001b[1;32m----> 1\u001b[0m avf_year \u001b[38;5;241m=\u001b[39m \u001b[38;5;28msum\u001b[39m(flm_dict\u001b[38;5;241m.\u001b[39mvalues())\u001b[38;5;241m/\u001b[39m\u001b[43mcount\u001b[49m(flm_dict\u001b[38;5;241m.\u001b[39mkeys())\n",
      "\u001b[1;31mNameError\u001b[0m: name 'count' is not defined"
     ]
    }
   ],
   "source": [
    "avf_year = sum(flm_dict.values())/count(flm_dict.keys())"
   ]
  },
  {
   "cell_type": "code",
   "execution_count": null,
   "metadata": {},
   "outputs": [],
   "source": []
  }
 ],
 "metadata": {
  "colab": {
   "name": "Лекция6_ИЯиМК.ipynb\"",
   "provenance": []
  },
  "kernelspec": {
   "display_name": "Python 3 (ipykernel)",
   "language": "python",
   "name": "python3"
  },
  "language_info": {
   "codemirror_mode": {
    "name": "ipython",
    "version": 3
   },
   "file_extension": ".py",
   "mimetype": "text/x-python",
   "name": "python",
   "nbconvert_exporter": "python",
   "pygments_lexer": "ipython3",
   "version": "3.9.12"
  }
 },
 "nbformat": 4,
 "nbformat_minor": 1
}
