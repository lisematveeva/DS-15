{
 "cells": [
  {
   "cell_type": "markdown",
   "metadata": {
    "id": "1EvSHqnfQRue"
   },
   "source": [
    "# Работа с табличными файлами"
   ]
  },
  {
   "cell_type": "markdown",
   "metadata": {
    "collapsed": true,
    "id": "uKj-VrIqQRut"
   },
   "source": [
    "Рассмотрим пример, в котором нужно проанализировать данные, хранящиеся в таблице.\n",
    "\n",
    "## Пример\n",
    "В файле temperature.csv дана информация о дневной и ночной температурах за последние несколько дней (суток). Данные представлены двумя столбцами целых чисел: первый столбец — дневная температура, второй столбец — ночная температура. Требуется найти среднюю дневную и среднюю ночную температуры за весь данный период.\n",
    "\n",
    "Это простая задача, которую можно было бы решить в Excel или Google-таблицах. Но если вы научитесь делать это в Python, то в будущем сможете решать более сложные задачи, которые в Excel или Google-таблицах не решить."
   ]
  },
  {
   "cell_type": "markdown",
   "metadata": {
    "id": "xQkTnd3TQRuz"
   },
   "source": [
    "## 1. Чтение из csv-файла и обработка данных"
   ]
  },
  {
   "cell_type": "markdown",
   "metadata": {
    "id": "xVAnQpmCQRu1"
   },
   "source": [
    " Данные уже сохранены в формате .csv («значения, разделенные запятой»). Но не забываем, что разделителем может выступать и другой знак. Давайте посмотрим, как данные организованы в файле temperature.csv. Мы можем открыть этот файл в текстовом редакторе и посмотреть, как он выглядит. Или можем считать данные с помощью Python просто в виде текста (строки), сохранить в переменную и посмотреть на полученное значение переменной."
   ]
  },
  {
   "cell_type": "code",
   "execution_count": 3,
   "metadata": {
    "colab": {
     "base_uri": "https://localhost:8080/",
     "height": 232
    },
    "id": "GZcoJ563QRu4",
    "outputId": "706f8be9-0614-448f-f30d-8a685a2ee731"
   },
   "outputs": [
    {
     "data": {
      "text/plain": [
       "'25 ;13\\n23; 13\\n23;15\\n28;15\\n23;19\\n30;13\\n25;10\\n26;13\\n28;12\\n25;19'"
      ]
     },
     "execution_count": 3,
     "metadata": {},
     "output_type": "execute_result"
    }
   ],
   "source": [
    "csv_data = ''                           # Cоздаем пустую строку, в которой будем хранить информацию\n",
    "with open('temperature.csv') as infile: # открываем файл temperature.csv под псевдонимом infile\n",
    "    for line in infile:                 # Сохраняем поочередно каждую строку файла infile в переменную line,\n",
    "        csv_data += line                # добавляем новую строку к текущей строке, \n",
    "csv_data                                # Смотрим, как выглядит считанный файл — \n",
    "                                        # снова смотрим \"внутрь\" переменной, без print()"
   ]
  },
  {
   "cell_type": "markdown",
   "metadata": {
    "id": "YPEuJ0TCQRvg"
   },
   "source": [
    "Но в виде сплошного текста (строки) будет неудобно обрабатывать данные. Лучше сразу обработать каждую строку входного файла. Запишем строки в список."
   ]
  },
  {
   "cell_type": "code",
   "execution_count": 4,
   "metadata": {
    "id": "eyYGrm5luhhc",
    "outputId": "ad47f5b0-98d6-48b9-afbd-9d2f3e12239e"
   },
   "outputs": [
    {
     "name": "stdout",
     "output_type": "stream",
     "text": [
      "['25 ;13\\n', '23; 13\\n', '23;15\\n', '28;15\\n', '23;19\\n', '30;13\\n', '25;10\\n', '26;13\\n', '28;12\\n', '25;19']\n"
     ]
    }
   ],
   "source": [
    "t_list = []                             # Cоздаем пустой список, в который будем записывать информацию о температуре\n",
    "with open('temperature.csv') as infile: # Открываем файл temperature.csv\n",
    "    for line in infile:                 # Сохраняем поочередно каждую строку файла infile в переменную line,\n",
    "        t_list.append(line)             # добавляем строку line в список температур \n",
    "print(t_list)"
   ]
  },
  {
   "cell_type": "markdown",
   "metadata": {
    "id": "y--BvKJ-uhhf"
   },
   "source": [
    "Получили списки строк. Продолжим улучшать код: на этапе считывания преобразуем каждую строку в маленький список, где первый элемент — дневная температура, а второй — ночная. Тут важно знать, какой именно разделитель выбран: запятая, точка с запятой или что-то еще. Из вывода предыдущей ячейки видим, что значения разделены точкой с запятой."
   ]
  },
  {
   "cell_type": "code",
   "execution_count": 5,
   "metadata": {
    "id": "bSnzfTwFuhhg",
    "outputId": "d3e27591-ea2e-4f6f-ca44-0f904233188e"
   },
   "outputs": [
    {
     "name": "stdout",
     "output_type": "stream",
     "text": [
      "[['25 ', '13\\n'], ['23', ' 13\\n'], ['23', '15\\n'], ['28', '15\\n'], ['23', '19\\n'], ['30', '13\\n'], ['25', '10\\n'], ['26', '13\\n'], ['28', '12\\n'], ['25', '19']]\n"
     ]
    }
   ],
   "source": [
    "t_list = [] \n",
    "with open('temperature.csv') as infile: \n",
    "    for line in infile:  \n",
    "        day_list = line.split(';')  # Разбиваем строку в список строк по точке с запятой\n",
    "        t_list.append(day_list)     # Добавляем список дневной и ночной температуры за текущий день к общему списку дней\n",
    "print(t_list)"
   ]
  },
  {
   "cell_type": "markdown",
   "metadata": {
    "id": "foyq8zMmuhhl"
   },
   "source": [
    "Получили список, состоящий из списков строк. Попробуем преобразовать каждую строку в число. Для этого будем обращаться к элементам списка, полученного из каждой строки, где на нулевом месте лежит дневная температура, а на первом — ночная. "
   ]
  },
  {
   "cell_type": "code",
   "execution_count": 6,
   "metadata": {
    "id": "ZmJ8xBsDuhhm",
    "outputId": "9b95cf85-8723-41ee-dcb3-41a219e90d1a"
   },
   "outputs": [
    {
     "name": "stdout",
     "output_type": "stream",
     "text": [
      "[[25, 13], [23, 13], [23, 15], [28, 15], [23, 19], [30, 13], [25, 10], [26, 13], [28, 12], [25, 19]]\n"
     ]
    }
   ],
   "source": [
    "t_list = [] \n",
    "with open('temperature.csv') as infile: \n",
    "    for line in infile:  \n",
    "        day_list = line.split(';')      \n",
    "        day_list_int = [int(day_list[0]), int(day_list[1])] # Создаем список, где строки преобразованы в числа\n",
    "        t_list.append(day_list_int)     \n",
    "print(t_list)"
   ]
  },
  {
   "cell_type": "markdown",
   "metadata": {
    "id": "VeCcG_FGuhht"
   },
   "source": [
    "Несмотря на то, что в строках были пробельные символы (пробелы и `\\n`), все они были успешно преобразованы в целые числа. Команды, записанные в предыдущей ячейке в строках 5 и 6, можно было бы заменить одной строкой, используя функцию `map()`."
   ]
  },
  {
   "cell_type": "code",
   "execution_count": 7,
   "metadata": {
    "id": "yC2N1N6OusJG"
   },
   "outputs": [
    {
     "name": "stdout",
     "output_type": "stream",
     "text": [
      "[[25, 13], [23, 13], [23, 15], [28, 15], [23, 19], [30, 13], [25, 10], [26, 13], [28, 12], [25, 19]]\n"
     ]
    }
   ],
   "source": [
    "t_list = [] \n",
    "with open('temperature.csv') as infile: \n",
    "    for line in infile:  \n",
    "        day_list = line.split(';')      \n",
    "        t_list.append(list(map(int, day_list))) # Используем функцию map():\n",
    "                                                # применяем int() к каждому элементу списка day_list,\n",
    "                                                # преобразовываем результат в список и добавляем к списку t_list\n",
    "print(t_list)"
   ]
  },
  {
   "cell_type": "markdown",
   "metadata": {
    "id": "-X_aR0BZt1iF"
   },
   "source": [
    "**Итог**. Повторим еще раз весь код для чтения данных из файла со всеми комментариями.\n"
   ]
  },
  {
   "cell_type": "code",
   "execution_count": 8,
   "metadata": {
    "colab": {
     "base_uri": "https://localhost:8080/",
     "height": 232
    },
    "id": "x9R-RUUvQRv9",
    "outputId": "97aeb05d-b68d-417b-f367-3452cc8afcec"
   },
   "outputs": [
    {
     "name": "stdout",
     "output_type": "stream",
     "text": [
      "[[25, 13], [23, 13], [23, 15], [28, 15], [23, 19], [30, 13], [25, 10], [26, 13], [28, 12], [25, 19]]\n"
     ]
    }
   ],
   "source": [
    "t_list = []                             # Создаем пустой список, в который будем записывать информацию о температуре\n",
    "with open('temperature.csv') as infile: # Открываем файл temperature.csv\n",
    "    for line in infile:                         # Сохраняем поочередно каждую строку файла infile в переменную line,\n",
    "        day_list = line.split(';')              # Разбиваем строку по точке с запятой, получаем список из двух строк\n",
    "        t_list.append(list(map(int, day_list))) # Применяем int() к каждому элементу списка day_list, \n",
    "                                                # преобразовываем результат в список и добавляем к списку t_list\n",
    "print(t_list)"
   ]
  },
  {
   "cell_type": "markdown",
   "metadata": {
    "id": "5LVV9D7rQRwm"
   },
   "source": [
    "## 2. Анализ числовых данных из csv-файла. Округление результатов."
   ]
  },
  {
   "cell_type": "markdown",
   "metadata": {
    "id": "4tA9WCzPgyP6"
   },
   "source": [
    "### Анализ числовых данных"
   ]
  },
  {
   "cell_type": "markdown",
   "metadata": {
    "id": "gO5gZrprQRwu"
   },
   "source": [
    "Теперь у нас есть данные в виде списка (точнее, списка списков), мы можем с ними работать, как угодно. В данном случае требуется посчитать среднюю температуру. Чтобы посчитать среднюю дневную температуру, нужно сложить все дневные температуры и разделить на количество дней. Аналогично для ночной температуры. Будем считать их одновременно, обращаясь к нужным элементам списка."
   ]
  },
  {
   "cell_type": "markdown",
   "metadata": {
    "id": "e0JO8sOWuhhz"
   },
   "source": [
    "Чтобы узнать количество дней, достаточно узнать длину списка с помощью функции `len()`:"
   ]
  },
  {
   "cell_type": "code",
   "execution_count": 9,
   "metadata": {
    "id": "Dvd5XD9Uuhh0",
    "outputId": "356bd228-9814-4179-c8cf-dc8ecaaab909"
   },
   "outputs": [
    {
     "name": "stdout",
     "output_type": "stream",
     "text": [
      "10\n"
     ]
    }
   ],
   "source": [
    "count = len(t_list)\n",
    "print(count)"
   ]
  },
  {
   "cell_type": "code",
   "execution_count": 10,
   "metadata": {
    "colab": {
     "base_uri": "https://localhost:8080/",
     "height": 232
    },
    "id": "L-7LWEh2QRw1",
    "outputId": "23b6dc3d-4d6f-4e00-ef33-a179088a2934"
   },
   "outputs": [
    {
     "name": "stdout",
     "output_type": "stream",
     "text": [
      "Средняя дневная температура: 25.6\n",
      "Средняя ночная температура: 14.2\n"
     ]
    }
   ],
   "source": [
    "sum_day = 0     # Изначально сумма дневных температур равна 0\n",
    "sum_night = 0   # И сумма ночных температур равна 0\n",
    "for d in t_list:        # Последовательно для всех дней (суток), то есть для всех элементов в списке температур\n",
    "    sum_day += d[0]     # К сумме дневных температур прибавляем значение, \n",
    "                        # стоящее на нулевом месте в списке температур данного дня\n",
    "    sum_night += d[1]   # К сумме ночных температур прибавляем значение, \n",
    "                        # стоящее на первом месте в списке температур данного дня\n",
    "mean_day = sum_day / count      # Считаем среднюю дневную температуру: делим полученную сумму на количество дней \n",
    "mean_night = sum_night / count  # Аналогично считаем среднюю ночную температуру\n",
    "print(f'Средняя дневная температура: {mean_day}') \n",
    "print(f'Средняя ночная температура: {mean_night}')"
   ]
  },
  {
   "cell_type": "markdown",
   "metadata": {
    "id": "-_lgfPP3BWPu"
   },
   "source": [
    "### Округление результатов"
   ]
  },
  {
   "cell_type": "markdown",
   "metadata": {
    "id": "fAWRSkwtQbGC"
   },
   "source": [
    "Мы получили дробное значение средней температуры. Допустим, мы хотим его **округлить**, то есть вместо дробного числа получить целое число. Есть несколько способов. Первый — с помощью функции `int()`:"
   ]
  },
  {
   "cell_type": "code",
   "execution_count": 11,
   "metadata": {
    "colab": {
     "base_uri": "https://localhost:8080/",
     "height": 130
    },
    "id": "CZcrUz7dQqQB",
    "outputId": "de3b5df4-c2cf-40f8-d785-da3622933556"
   },
   "outputs": [
    {
     "name": "stdout",
     "output_type": "stream",
     "text": [
      "Округленные значения c помощью функции int():\n",
      "25.6 ≈ 25 днем\n",
      "14.2 ≈ 14 ночью\n"
     ]
    }
   ],
   "source": [
    "print('Округленные значения c помощью функции int():')\n",
    "print(f'{mean_day} ≈ {int(mean_day)} днем')      # ≈ Читается как \"примерно равно\"\n",
    "print(f'{mean_night} ≈ {int(mean_night)} ночью')"
   ]
  },
  {
   "cell_type": "markdown",
   "metadata": {
    "id": "0GkHEL2rBb01"
   },
   "source": [
    "Функция `int()` получает из дробного числа целое число, просто отбрасывая все цифры после запятой (точки). Это так называемое **округление вниз**: округление к меньшему числу. \n",
    "\n",
    "Чтобы **округлить вверх**, то есть округлить к большему числу, можно воспользоваться функцией `ceil()`. Слово \"ceil\" означает \"перекрывать\". Функция `ceil()` содержится в модуле `math` — импортируем ее."
   ]
  },
  {
   "cell_type": "code",
   "execution_count": 12,
   "metadata": {
    "id": "G29k2CfJBb04",
    "outputId": "472ade5a-efb3-4496-b6b9-456219323f0c"
   },
   "outputs": [
    {
     "name": "stdout",
     "output_type": "stream",
     "text": [
      "Округленные значения c помощью функции ceil():\n",
      "25.6 ≈ 26 днем\n",
      "14.2 ≈ 15 ночью\n"
     ]
    }
   ],
   "source": [
    "from math import ceil    # Из модуля math импортируем функцию ceil() \n",
    "print('Округленные значения c помощью функции ceil():')\n",
    "print(f'{mean_day} ≈ {ceil(mean_day)} днем')        \n",
    "print(f'{mean_night} ≈ {ceil(mean_night)} ночью')"
   ]
  },
  {
   "cell_type": "markdown",
   "metadata": {
    "id": "tNncHQ8bBb09"
   },
   "source": [
    "Чтобы округлить **по математическим правилам** (если дробная часть меньшие половины, округлять вниз, а если дробная часть больше половины, округлять вверх), можно воспользоваться функцией `round()`."
   ]
  },
  {
   "cell_type": "code",
   "execution_count": 14,
   "metadata": {
    "id": "qBuyyVyyBb0-",
    "outputId": "eef380a0-5ae8-4471-93a2-fa3ae2f9ec71"
   },
   "outputs": [
    {
     "name": "stdout",
     "output_type": "stream",
     "text": [
      "Округленные значения c помощью функции round():\n",
      "25.6 ≈ 26 днем\n",
      "14.2 ≈ 14 ночью\n"
     ]
    }
   ],
   "source": [
    "print('Округленные значения c помощью функции round():')\n",
    "print(f'{mean_day} ≈ {round(mean_day)} днем')        \n",
    "print(f'{mean_night} ≈ {round(mean_night)} ночью')"
   ]
  },
  {
   "cell_type": "markdown",
   "metadata": {
    "id": "SG_sK1KDBb1E"
   },
   "source": [
    "Но при округлении чисел, у которых дробная часть равна половине, нас ждет сюрприз. Сравните:"
   ]
  },
  {
   "cell_type": "code",
   "execution_count": 12,
   "metadata": {
    "id": "CGbdgXiHBb1F",
    "outputId": "d3c543cb-8c84-4448-d2ed-930361edd011"
   },
   "outputs": [
    {
     "name": "stdout",
     "output_type": "stream",
     "text": [
      "25.5 ≈ 26\n",
      "14.5 ≈ 14\n"
     ]
    }
   ],
   "source": [
    "a = 25.5\n",
    "b = 14.5\n",
    "print(f'{a} ≈ {round(a)}')        \n",
    "print(f'{b} ≈ {round(b)}')        "
   ]
  },
  {
   "cell_type": "markdown",
   "metadata": {
    "id": "316lYhdNBb1K"
   },
   "source": [
    "Если дробная часть равна половине (.5), функция `round()` в Python округляет к ближайшему **четному** числу. \n",
    "\n",
    "Эту особенность надо учитывать при разработке программ."
   ]
  }
 ],
 "metadata": {
  "colab": {
   "collapsed_sections": [],
   "name": "8.12.9–8.12.10 Работа с табличными файлами.ipynb",
   "provenance": []
  },
  "kernelspec": {
   "display_name": "Python 3 (ipykernel)",
   "language": "python",
   "name": "python3"
  },
  "language_info": {
   "codemirror_mode": {
    "name": "ipython",
    "version": 3
   },
   "file_extension": ".py",
   "mimetype": "text/x-python",
   "name": "python",
   "nbconvert_exporter": "python",
   "pygments_lexer": "ipython3",
   "version": "3.9.12"
  }
 },
 "nbformat": 4,
 "nbformat_minor": 1
}
