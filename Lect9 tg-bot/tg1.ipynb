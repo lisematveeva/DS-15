{
 "cells": [
  {
   "cell_type": "code",
   "execution_count": 233,
   "id": "1764ea59",
   "metadata": {},
   "outputs": [],
   "source": [
    "import telebot\n",
    "from telebot import types\n",
    "\n",
    "\n",
    "from bot_token import token\n",
    "bot = telebot.TeleBot(token)\n",
    "\n"
   ]
  },
  {
   "cell_type": "code",
   "execution_count": 234,
   "id": "495f7644",
   "metadata": {},
   "outputs": [],
   "source": [
    "@bot.message_handler(commands=['start']) #декоратор \n",
    "\n",
    "def send_keyboard(message, text=\"Привет! Здесь ты можешь добавлять и редактировать словарь. С чего начнем?\"):\n",
    "    keyboard = types.ReplyKeyboardMarkup(row_width=2)  \n",
    "    itembtn1 = types.KeyboardButton('Добавить слово') \n",
    "    itembtn2 = types.KeyboardButton('Удалить слово')\n",
    "    itembtn3 = types.KeyboardButton('Показать список слов')\n",
    "    #itembtn4 = types.KeyboardButton(\"Ребалансировка\")\n",
    "    itembtn5 = types.KeyboardButton('Повторение')\n",
    "    keyboard.add(itembtn1, itembtn2)\n",
    "    keyboard.add(itembtn3, itembtn5 ) \n",
    "    \n",
    "    global var\n",
    "    var = message.from_user.id\n",
    "\n",
    "    # возврат клаиатуры\n",
    "    msg = bot.send_message(var,\n",
    "                     text=text, reply_markup=keyboard)\n",
    "\n",
    " \n",
    "    bot.register_next_step_handler(msg, callback_worker)\n",
    "    \n",
    "#bot.polling(none_stop=True)"
   ]
  },
  {
   "cell_type": "code",
   "execution_count": null,
   "id": "45efb937",
   "metadata": {},
   "outputs": [],
   "source": []
  },
  {
   "cell_type": "code",
   "execution_count": 235,
   "id": "24bf2060",
   "metadata": {},
   "outputs": [],
   "source": [
    "#bot.polling(none_stop=True) # или bot.infinity_polling()"
   ]
  },
  {
   "cell_type": "code",
   "execution_count": 236,
   "id": "114bd0aa",
   "metadata": {},
   "outputs": [],
   "source": [
    "import sqlite3"
   ]
  },
  {
   "cell_type": "code",
   "execution_count": 237,
   "id": "45e5690b",
   "metadata": {},
   "outputs": [],
   "source": [
    "# подключаем базу данных\n",
    "conn = sqlite3.connect('dict.db')\n",
    "\n",
    "# курсор для работы с таблицами\n",
    "cursor = conn.cursor()"
   ]
  },
  {
   "cell_type": "code",
   "execution_count": 238,
   "id": "cac37980",
   "metadata": {},
   "outputs": [],
   "source": [
    "try:\n",
    "    # sql запрос для создания таблицы\n",
    "    query = 'CREATE TABLE \"dict_table\" (\"ID\" INTEGER UNIQUE, \"user_id\" INTEGER, \"word_id\" INTEGER UNIQUE, \"word_rus\" TEXT, \"word_eng\" TEXT, PRIMARY KEY (\"ID\", \"word_id\"))'\n",
    "    # исполняем его –> ура, теперь у нас есть таблица, куда будем все сохранять!\n",
    "    cursor.execute(query)\n",
    "except:\n",
    "    pass"
   ]
  },
  {
   "cell_type": "code",
   "execution_count": 239,
   "id": "6d36779a",
   "metadata": {},
   "outputs": [],
   "source": [
    "#Добавдение слова в словарь\n",
    "def add_word(msg):\n",
    "    #while msg.text != 'stop':\n",
    "    words = msg.text\n",
    "    word_rus = words.split()[1].lower()\n",
    "    word_eng = words.split()[0].lower()\n",
    "    with sqlite3.connect('dict.db') as con:\n",
    "        cursor = con.cursor()\n",
    "        cursor.execute('INSERT INTO dict_table (user_id, word_rus, word_eng) VALUES (?, ?, ?)',\n",
    "                       (msg.from_user.id, word_rus, word_eng))\n",
    "        con.commit()\n",
    "    bot.send_message(msg.chat.id, 'Добавлено')\n",
    "    send_keyboard(msg, \"Чем еще могу помочь?\")"
   ]
  },
  {
   "cell_type": "code",
   "execution_count": 240,
   "id": "809356b8",
   "metadata": {},
   "outputs": [],
   "source": [
    "# просто функция, которая делает нам красивые строки для отправки пользователю\n",
    "def get_words_string(show_w):\n",
    "    tasks_str = []\n",
    "    for val in list(enumerate(show_w)): # val=(0, (дело1))\n",
    "        tasks_str.append(str(val[0] + 1) + ') ' + val[1][0]  + ' ' + val[1][1] + '\\n')\n",
    "    return ''.join(tasks_str)\n",
    "\n",
    "# отправляем пользователю список слов\n",
    "def show_words(msg):\n",
    "    with sqlite3.connect('dict.db') as con:\n",
    "        cursor = con.cursor()\n",
    "        cursor.execute('SELECT word_eng, word_rus FROM dict_table WHERE user_id=={}'.format(msg.from_user.id))\n",
    "        show_w = get_words_string(cursor.fetchall())\n",
    "        bot.send_message(msg.chat.id, show_w)\n",
    "        send_keyboard(msg, \"Чем еще могу помочь?\")"
   ]
  },
  {
   "cell_type": "code",
   "execution_count": 241,
   "id": "085c0834",
   "metadata": {},
   "outputs": [],
   "source": [
    "import random"
   ]
  },
  {
   "cell_type": "code",
   "execution_count": 246,
   "id": "ac333e4f",
   "metadata": {},
   "outputs": [],
   "source": [
    " \n",
    "\n",
    "def repeat_words(msg):  \n",
    "    \n",
    "        with sqlite3.connect('dict.db') as con:\n",
    "            cursor = con.cursor()\n",
    "            cursor.execute('SELECT word_eng, word_rus FROM dict_table WHERE user_id=={}'.format(var))\n",
    "            show_w = cursor.fetchall()\n",
    "            \n",
    "        dict_w = dict(show_w)\n",
    "        rnd1 = random.choice(list(dict_w))\n",
    "        rnd2 = random.choice(list(dict_w))\n",
    "        \n",
    "        keyboard2 = types.ReplyKeyboardMarkup(row_width=2)  \n",
    "        itembtn8 = types.KeyboardButton(f'{rnd1}') \n",
    "        itembtn9 = types.KeyboardButton(f'{rnd2}')\n",
    "\n",
    "        keyboard2.add(itembtn8, itembtn9)\n",
    "\n",
    "\n",
    "    # возврат клаиатуры\n",
    "        msg = bot.send_message(var,\n",
    "                     text=text, reply_markup=keyboard2)      \n",
    "        \n",
    "\n",
    "#         if rnd == msg.text:\n",
    "#              bot.send_message(msg.chat.id, 'Правильно')\n",
    "#         else:\n",
    "#             bot.send_message(msg.chat.id, f'Ошибка, правильный ответ \"{rnd} = {dict_w[rnd]}\"')\n",
    "\n",
    "    \n",
    "    #bot.send_message(msg.chat.id, 'Переводи слова ниже')\n",
    "#     rnd = random.choice(list(dict_w))\n",
    "#     bot.send_message(msg.chat.id, f'{rnd}')\n",
    "#     a = msg.text\n",
    "#     if rnd == a:\n",
    "#         bot.send_message(msg.chat.id, 'Правильно')\n",
    "#     else:\n",
    "#         bot.send_message(msg.chat.id, f'Ошибка, правильный ответ \"{rnd} = {dict_w[rnd]}\"')\n",
    "#         bot.send_message(msg.chat.id, show_w)\n",
    "#         send_keyboard(msg, \"Чем еще могу помочь?\")\n",
    "#         bot.send_message(msg.chat.id, f'введено {msg.text}')\n",
    "        \n",
    "        #show_w = get_words_string(cursor.fetchall())\n",
    "        #bot.send_message(msg.chat.id, show_w)\n",
    "        #send_keyboard(msg, \"Чем еще могу помочь?\")"
   ]
  },
  {
   "cell_type": "code",
   "execution_count": 247,
   "id": "0b1b9cb1",
   "metadata": {},
   "outputs": [],
   "source": [
    "# import random \n",
    "\n",
    "# a = { \"a\": 1, \"b\": 2, \"c\": 3 }\n",
    "# random.choice(list(a))\n",
    "# with sqlite3.connect('dict.db') as con:\n",
    "#     cursor = con.cursor()\n",
    "#     cursor.execute('SELECT word_eng, word_rus FROM dict_table')\n",
    "#     show_w = cursor.fetchall()\n",
    "    \n",
    "# dict_w = dict(show_w)\n",
    "\n",
    "\n",
    "\n",
    "# while True:\n",
    "#     rnd = random.choice(list(dict_w))\n",
    "#     print(rnd)\n",
    "#     a = input()\n",
    "#     if rnd == a:\n",
    "#         print('Правильно')\n",
    "#     else:\n",
    "#         print(f'Ошибка, правильный ответ \"{rnd} = {dict_w[rnd]}\"')\n",
    "#         break\n",
    "    \n",
    "        \n"
   ]
  },
  {
   "cell_type": "code",
   "execution_count": 248,
   "id": "3bbaca02",
   "metadata": {},
   "outputs": [
    {
     "data": {
      "text/plain": [
       "['1) hello привет\\n',\n",
       " '2) bbjhj nkkj\\n',\n",
       " '3) cat кошка\\n',\n",
       " '4) flower цветок\\n',\n",
       " '5) sun солнце\\n',\n",
       " '6) hhikk ннн\\n']"
      ]
     },
     "execution_count": 248,
     "metadata": {},
     "output_type": "execute_result"
    }
   ],
   "source": [
    "\n",
    "with sqlite3.connect('dict.db') as con:\n",
    "    cursor = con.cursor()\n",
    "    cursor.execute('SELECT word_eng, word_rus FROM dict_table')\n",
    "    show_w = cursor.fetchall()\n",
    "\n",
    "tasks_str = []\n",
    "for val in list(enumerate(show_w)): # val=(0, (дело1))\n",
    "    tasks_str.append(str(val[0] + 1) + ') ' + val[1][0] + ' ' + val[1][1] + '\\n')\n",
    "tasks_str"
   ]
  },
  {
   "cell_type": "code",
   "execution_count": 249,
   "id": "2254005d",
   "metadata": {},
   "outputs": [],
   "source": [
    "# удаляет это дело\n",
    "def delete_word(msg):\n",
    "    with sqlite3.connect('dict.db') as con:\n",
    "        cursor = con.cursor()\n",
    "        cursor.execute('DELETE FROM dict_table WHERE user_id=\"{}\" AND word_eng =\"{}\"'.format(msg.from_user.id, msg.text))\n",
    "        con.commit()\n",
    "        bot.send_message(msg.chat.id, 'Слово удалено!')\n",
    "        send_keyboard(msg, \"Чем еще могу помочь?\")"
   ]
  },
  {
   "cell_type": "code",
   "execution_count": 250,
   "id": "b12c4134",
   "metadata": {},
   "outputs": [],
   "source": [
    "# привязываем функции к кнопкам на клавиатуре\n",
    "def callback_worker(call):\n",
    "    if call.text == \"Добавить слово\":\n",
    "        msg = bot.send_message(call.chat.id, 'Пиши слова в чат в формате \"hello привет\", а затем вызови команду \"stop\"')\n",
    "        \n",
    "        bot.register_next_step_handler(msg, add_word)\n",
    "        \n",
    "\n",
    "\n",
    "    elif call.text == \"Показать список слов\":\n",
    "        try:\n",
    "            show_words(call)\n",
    "        except:\n",
    "            bot.send_message(call.chat.id, 'Здесь пусто. Можно отдыхать :-)')\n",
    "            send_keyboard(call, \"Чем еще могу помочь?\")\n",
    "            \n",
    "    elif call.text == \"Удалить слово\":\n",
    "        try:\n",
    "            msg = bot.send_message(call.chat.id, 'Какое слово удалить?')\n",
    "            \n",
    "            bot.register_next_step_handler(msg, delete_word)\n",
    "            \n",
    "        except:\n",
    "            bot.send_message(call.chat.id, 'Здесь пусто. Можно отдыхать :-)')\n",
    "            send_keyboard(call, \"Чем еще могу помочь?\")\n",
    "            \n",
    "    elif call.text == \"Повторение\":\n",
    "        \n",
    "        repeat_words(call)\n",
    "            \n",
    "\n",
    "        \n",
    "          \n",
    "            \n",
    "            \n",
    "\n",
    "#         bot.register_next_step_handler(msg, repeat_words)\n",
    "\n",
    "        \n",
    "        \n",
    "#         try:\n",
    "#             repeat_words(call)\n",
    "#         except:\n",
    "#             bot.send_message(call.chat.id, 'Здесь пусто. Можно отдыхать :-)')\n",
    "#             send_keyboard(call, \"Чем еще могу помочь?\")"
   ]
  },
  {
   "cell_type": "code",
   "execution_count": null,
   "id": "14166098",
   "metadata": {},
   "outputs": [],
   "source": []
  },
  {
   "cell_type": "code",
   "execution_count": 251,
   "id": "a8442b9f",
   "metadata": {},
   "outputs": [
    {
     "ename": "NameError",
     "evalue": "name 'text' is not defined",
     "output_type": "error",
     "traceback": [
      "\u001b[1;31m---------------------------------------------------------------------------\u001b[0m",
      "\u001b[1;31mNameError\u001b[0m                                 Traceback (most recent call last)",
      "Input \u001b[1;32mIn [251]\u001b[0m, in \u001b[0;36m<cell line: 1>\u001b[1;34m()\u001b[0m\n\u001b[1;32m----> 1\u001b[0m \u001b[43mbot\u001b[49m\u001b[38;5;241;43m.\u001b[39;49m\u001b[43mpolling\u001b[49m\u001b[43m(\u001b[49m\u001b[43mnone_stop\u001b[49m\u001b[38;5;241;43m=\u001b[39;49m\u001b[38;5;28;43;01mTrue\u001b[39;49;00m\u001b[43m)\u001b[49m\n",
      "File \u001b[1;32m~\\anaconda3\\lib\\site-packages\\telebot\\__init__.py:1043\u001b[0m, in \u001b[0;36mTeleBot.polling\u001b[1;34m(self, non_stop, skip_pending, interval, timeout, long_polling_timeout, logger_level, allowed_updates, none_stop, restart_on_change, path_to_watch)\u001b[0m\n\u001b[0;32m   1040\u001b[0m logger\u001b[38;5;241m.\u001b[39minfo(\u001b[38;5;124m'\u001b[39m\u001b[38;5;124mStarting your bot with username: [@\u001b[39m\u001b[38;5;132;01m%s\u001b[39;00m\u001b[38;5;124m]\u001b[39m\u001b[38;5;124m'\u001b[39m, \u001b[38;5;28mself\u001b[39m\u001b[38;5;241m.\u001b[39muser\u001b[38;5;241m.\u001b[39musername)\n\u001b[0;32m   1042\u001b[0m \u001b[38;5;28;01mif\u001b[39;00m \u001b[38;5;28mself\u001b[39m\u001b[38;5;241m.\u001b[39mthreaded:\n\u001b[1;32m-> 1043\u001b[0m     \u001b[38;5;28;43mself\u001b[39;49m\u001b[38;5;241;43m.\u001b[39;49m\u001b[43m__threaded_polling\u001b[49m\u001b[43m(\u001b[49m\u001b[43mnon_stop\u001b[49m\u001b[38;5;241;43m=\u001b[39;49m\u001b[43mnon_stop\u001b[49m\u001b[43m,\u001b[49m\u001b[43m \u001b[49m\u001b[43minterval\u001b[49m\u001b[38;5;241;43m=\u001b[39;49m\u001b[43minterval\u001b[49m\u001b[43m,\u001b[49m\u001b[43m \u001b[49m\u001b[43mtimeout\u001b[49m\u001b[38;5;241;43m=\u001b[39;49m\u001b[43mtimeout\u001b[49m\u001b[43m,\u001b[49m\u001b[43m \u001b[49m\u001b[43mlong_polling_timeout\u001b[49m\u001b[38;5;241;43m=\u001b[39;49m\u001b[43mlong_polling_timeout\u001b[49m\u001b[43m,\u001b[49m\n\u001b[0;32m   1044\u001b[0m \u001b[43m                            \u001b[49m\u001b[43mlogger_level\u001b[49m\u001b[38;5;241;43m=\u001b[39;49m\u001b[43mlogger_level\u001b[49m\u001b[43m,\u001b[49m\u001b[43m \u001b[49m\u001b[43mallowed_updates\u001b[49m\u001b[38;5;241;43m=\u001b[39;49m\u001b[43mallowed_updates\u001b[49m\u001b[43m)\u001b[49m\n\u001b[0;32m   1045\u001b[0m \u001b[38;5;28;01melse\u001b[39;00m:\n\u001b[0;32m   1046\u001b[0m     \u001b[38;5;28mself\u001b[39m\u001b[38;5;241m.\u001b[39m__non_threaded_polling(non_stop\u001b[38;5;241m=\u001b[39mnon_stop, interval\u001b[38;5;241m=\u001b[39minterval, timeout\u001b[38;5;241m=\u001b[39mtimeout, long_polling_timeout\u001b[38;5;241m=\u001b[39mlong_polling_timeout,\n\u001b[0;32m   1047\u001b[0m                                 logger_level\u001b[38;5;241m=\u001b[39mlogger_level, allowed_updates\u001b[38;5;241m=\u001b[39mallowed_updates)\n",
      "File \u001b[1;32m~\\anaconda3\\lib\\site-packages\\telebot\\__init__.py:1118\u001b[0m, in \u001b[0;36mTeleBot.__threaded_polling\u001b[1;34m(self, non_stop, interval, timeout, long_polling_timeout, logger_level, allowed_updates)\u001b[0m\n\u001b[0;32m   1116\u001b[0m     polling_thread\u001b[38;5;241m.\u001b[39mclear_exceptions()   \u001b[38;5;66;03m#*\u001b[39;00m\n\u001b[0;32m   1117\u001b[0m     \u001b[38;5;28mself\u001b[39m\u001b[38;5;241m.\u001b[39mworker_pool\u001b[38;5;241m.\u001b[39mclear_exceptions() \u001b[38;5;66;03m#*\u001b[39;00m\n\u001b[1;32m-> 1118\u001b[0m     \u001b[38;5;28;01mraise\u001b[39;00m e\n\u001b[0;32m   1119\u001b[0m \u001b[38;5;28;01melse\u001b[39;00m:\n\u001b[0;32m   1120\u001b[0m     polling_thread\u001b[38;5;241m.\u001b[39mclear_exceptions()\n",
      "File \u001b[1;32m~\\anaconda3\\lib\\site-packages\\telebot\\__init__.py:1074\u001b[0m, in \u001b[0;36mTeleBot.__threaded_polling\u001b[1;34m(self, non_stop, interval, timeout, long_polling_timeout, logger_level, allowed_updates)\u001b[0m\n\u001b[0;32m   1072\u001b[0m     or_event\u001b[38;5;241m.\u001b[39mwait()  \u001b[38;5;66;03m# wait for polling thread finish, polling thread error or thread pool error\u001b[39;00m\n\u001b[0;32m   1073\u001b[0m     polling_thread\u001b[38;5;241m.\u001b[39mraise_exceptions()\n\u001b[1;32m-> 1074\u001b[0m     \u001b[38;5;28;43mself\u001b[39;49m\u001b[38;5;241;43m.\u001b[39;49m\u001b[43mworker_pool\u001b[49m\u001b[38;5;241;43m.\u001b[39;49m\u001b[43mraise_exceptions\u001b[49m\u001b[43m(\u001b[49m\u001b[43m)\u001b[49m\n\u001b[0;32m   1075\u001b[0m     error_interval \u001b[38;5;241m=\u001b[39m \u001b[38;5;241m0.25\u001b[39m\n\u001b[0;32m   1076\u001b[0m \u001b[38;5;28;01mexcept\u001b[39;00m apihelper\u001b[38;5;241m.\u001b[39mApiException \u001b[38;5;28;01mas\u001b[39;00m e:\n",
      "File \u001b[1;32m~\\anaconda3\\lib\\site-packages\\telebot\\util.py:147\u001b[0m, in \u001b[0;36mThreadPool.raise_exceptions\u001b[1;34m(self)\u001b[0m\n\u001b[0;32m    145\u001b[0m \u001b[38;5;28;01mdef\u001b[39;00m \u001b[38;5;21mraise_exceptions\u001b[39m(\u001b[38;5;28mself\u001b[39m):\n\u001b[0;32m    146\u001b[0m     \u001b[38;5;28;01mif\u001b[39;00m \u001b[38;5;28mself\u001b[39m\u001b[38;5;241m.\u001b[39mexception_event\u001b[38;5;241m.\u001b[39mis_set():\n\u001b[1;32m--> 147\u001b[0m         \u001b[38;5;28;01mraise\u001b[39;00m \u001b[38;5;28mself\u001b[39m\u001b[38;5;241m.\u001b[39mexception_info\n",
      "File \u001b[1;32m~\\anaconda3\\lib\\site-packages\\telebot\\util.py:90\u001b[0m, in \u001b[0;36mWorkerThread.run\u001b[1;34m(self)\u001b[0m\n\u001b[0;32m     87\u001b[0m logger\u001b[38;5;241m.\u001b[39mdebug(\u001b[38;5;124m\"\u001b[39m\u001b[38;5;124mReceived task\u001b[39m\u001b[38;5;124m\"\u001b[39m)\n\u001b[0;32m     88\u001b[0m \u001b[38;5;28mself\u001b[39m\u001b[38;5;241m.\u001b[39mreceived_task_event\u001b[38;5;241m.\u001b[39mset()\n\u001b[1;32m---> 90\u001b[0m task(\u001b[38;5;241m*\u001b[39margs, \u001b[38;5;241m*\u001b[39m\u001b[38;5;241m*\u001b[39mkwargs)\n\u001b[0;32m     91\u001b[0m logger\u001b[38;5;241m.\u001b[39mdebug(\u001b[38;5;124m\"\u001b[39m\u001b[38;5;124mTask complete\u001b[39m\u001b[38;5;124m\"\u001b[39m)\n\u001b[0;32m     92\u001b[0m \u001b[38;5;28mself\u001b[39m\u001b[38;5;241m.\u001b[39mdone_event\u001b[38;5;241m.\u001b[39mset()\n",
      "Input \u001b[1;32mIn [250]\u001b[0m, in \u001b[0;36mcallback_worker\u001b[1;34m(call)\u001b[0m\n\u001b[0;32m     25\u001b[0m         send_keyboard(call, \u001b[38;5;124m\"\u001b[39m\u001b[38;5;124mЧем еще могу помочь?\u001b[39m\u001b[38;5;124m\"\u001b[39m)\n\u001b[0;32m     27\u001b[0m \u001b[38;5;28;01melif\u001b[39;00m call\u001b[38;5;241m.\u001b[39mtext \u001b[38;5;241m==\u001b[39m \u001b[38;5;124m\"\u001b[39m\u001b[38;5;124mПовторение\u001b[39m\u001b[38;5;124m\"\u001b[39m:\n\u001b[1;32m---> 29\u001b[0m     \u001b[43mrepeat_words\u001b[49m\u001b[43m(\u001b[49m\u001b[43mcall\u001b[49m\u001b[43m)\u001b[49m\n",
      "Input \u001b[1;32mIn [246]\u001b[0m, in \u001b[0;36mrepeat_words\u001b[1;34m(msg)\u001b[0m\n\u001b[0;32m     16\u001b[0m     keyboard2\u001b[38;5;241m.\u001b[39madd(itembtn8, itembtn9)\n\u001b[0;32m     19\u001b[0m \u001b[38;5;66;03m# возврат клаиатуры\u001b[39;00m\n\u001b[0;32m     20\u001b[0m     msg \u001b[38;5;241m=\u001b[39m bot\u001b[38;5;241m.\u001b[39msend_message(var,\n\u001b[1;32m---> 21\u001b[0m                  text\u001b[38;5;241m=\u001b[39m\u001b[43mtext\u001b[49m, reply_markup\u001b[38;5;241m=\u001b[39mkeyboard2)\n",
      "\u001b[1;31mNameError\u001b[0m: name 'text' is not defined"
     ]
    }
   ],
   "source": [
    "bot.polling(none_stop=True) # или bot.infinity_polling()"
   ]
  },
  {
   "cell_type": "code",
   "execution_count": null,
   "id": "fdd15e29",
   "metadata": {},
   "outputs": [],
   "source": [
    "msg = 'meow'\n",
    "with sqlite3.connect('dict.db') as con:\n",
    "    cursor = con.cursor()\n",
    "    cursor.execute('DELETE FROM dict_table WHERE word_eng = \"{}\"'.format(msg))\n",
    "    con.commit()\n",
    "    \n",
    "    \n",
    "    \n",
    "    \n",
    "    \n",
    "    "
   ]
  },
  {
   "cell_type": "code",
   "execution_count": null,
   "id": "45a6b60c",
   "metadata": {},
   "outputs": [],
   "source": [
    "'DELETE FROM dict_table WHERE word_eng = \"{}\"'.format(msg)"
   ]
  },
  {
   "cell_type": "code",
   "execution_count": null,
   "id": "dd00d1dc",
   "metadata": {},
   "outputs": [],
   "source": [
    "\n",
    "with sqlite3.connect('dict.db') as con:\n",
    "    cursor = con.cursor()\n",
    "    cursor.execute('SELECT word_eng, word_rus FROM dict_table')\n",
    "    show_w = get_words_string(cursor.fetchall())\n",
    "\n",
    "print(type(show_w))"
   ]
  },
  {
   "cell_type": "code",
   "execution_count": null,
   "id": "c7d26a5c",
   "metadata": {},
   "outputs": [],
   "source": []
  }
 ],
 "metadata": {
  "kernelspec": {
   "display_name": "Python 3 (ipykernel)",
   "language": "python",
   "name": "python3"
  },
  "language_info": {
   "codemirror_mode": {
    "name": "ipython",
    "version": 3
   },
   "file_extension": ".py",
   "mimetype": "text/x-python",
   "name": "python",
   "nbconvert_exporter": "python",
   "pygments_lexer": "ipython3",
   "version": "3.9.12"
  }
 },
 "nbformat": 4,
 "nbformat_minor": 5
}
