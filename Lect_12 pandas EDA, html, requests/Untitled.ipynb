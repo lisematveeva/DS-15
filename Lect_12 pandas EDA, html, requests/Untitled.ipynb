{
 "cells": [
  {
   "cell_type": "code",
   "execution_count": 2,
   "id": "22117379",
   "metadata": {},
   "outputs": [],
   "source": [
    "def get_calories(joule):\n",
    "    return joule/4184"
   ]
  },
  {
   "cell_type": "code",
   "execution_count": 40,
   "id": "e53d3de1",
   "metadata": {},
   "outputs": [],
   "source": [
    "strings = ['Ёж', 'зелёный', 'ЕЁ', 'гЁТЬёсЮёёзЪЁЁЙ']"
   ]
  },
  {
   "cell_type": "code",
   "execution_count": 12,
   "id": "b0f4981f",
   "metadata": {},
   "outputs": [],
   "source": [
    "def replacer(strings):\n",
    "    return list(map((lambda x: x.replace('Ё', 'Е').replace('ё', 'е') ), strings))"
   ]
  },
  {
   "cell_type": "code",
   "execution_count": 47,
   "id": "68d5fd99",
   "metadata": {},
   "outputs": [],
   "source": [
    "replacer(strings)"
   ]
  },
  {
   "cell_type": "code",
   "execution_count": 46,
   "id": "64d85ec1",
   "metadata": {},
   "outputs": [],
   "source": [
    "def replacer(strings):\n",
    "    strings = list(map((lambda x: x.replace('Ё', 'Е').replace('ё', 'е') ), strings))\n",
    "    #print(strings)\n",
    "    "
   ]
  },
  {
   "cell_type": "code",
   "execution_count": 43,
   "id": "d832c311",
   "metadata": {},
   "outputs": [
    {
     "name": "stdout",
     "output_type": "stream",
     "text": [
      "['Ёж', 'зелёный', 'ЕЁ', 'гЁТЬёсЮёёзЪЁЁЙ']\n"
     ]
    }
   ],
   "source": [
    "print(strings)"
   ]
  },
  {
   "cell_type": "code",
   "execution_count": 53,
   "id": "bc92bcbf",
   "metadata": {},
   "outputs": [],
   "source": [
    "accounts = {'@blogger13999': 2308, '@dragondragon': 1473, '@account': 1400, '@flowers': 1250, '@banana': 1500}\n",
    "min_followers = 1400\n",
    "max_followers = 1500"
   ]
  },
  {
   "cell_type": "code",
   "execution_count": 62,
   "id": "d7024dad",
   "metadata": {},
   "outputs": [
    {
     "ename": "AttributeError",
     "evalue": "'str' object has no attribute 'values'",
     "output_type": "error",
     "traceback": [
      "\u001b[1;31m---------------------------------------------------------------------------\u001b[0m",
      "\u001b[1;31mAttributeError\u001b[0m                            Traceback (most recent call last)",
      "Input \u001b[1;32mIn [62]\u001b[0m, in \u001b[0;36m<cell line: 1>\u001b[1;34m()\u001b[0m\n\u001b[0;32m      1\u001b[0m \u001b[38;5;28;01mfor\u001b[39;00m i \u001b[38;5;129;01min\u001b[39;00m accounts:\n\u001b[1;32m----> 2\u001b[0m     \u001b[38;5;28mprint\u001b[39m(\u001b[43mi\u001b[49m\u001b[38;5;241;43m.\u001b[39;49m\u001b[43mvalues\u001b[49m)\n",
      "\u001b[1;31mAttributeError\u001b[0m: 'str' object has no attribute 'values'"
     ]
    }
   ],
   "source": [
    "for i in accounts:\n",
    "    print(i.values)"
   ]
  },
  {
   "cell_type": "code",
   "execution_count": 68,
   "id": "b1f8398e",
   "metadata": {},
   "outputs": [
    {
     "data": {
      "text/plain": [
       "['@dragondragon', '@account', '@banana']"
      ]
     },
     "execution_count": 68,
     "metadata": {},
     "output_type": "execute_result"
    }
   ],
   "source": [
    "st = list(filter(lambda x: min_followers <= x[1] <= max_followers, accounts.items()))\n",
    "list(map(lambda x: x[0], st))"
   ]
  },
  {
   "cell_type": "code",
   "execution_count": 72,
   "id": "7881b358",
   "metadata": {},
   "outputs": [],
   "source": [
    "def filter_accounts(accounts, min_followers, max_followers):\n",
    "    st = list(filter(lambda x: min_followers <= x[1] <= max_followers, accounts.items()))\n",
    "    return sorted(list(map(lambda x: x[0], st)))\n",
    "    "
   ]
  },
  {
   "cell_type": "code",
   "execution_count": 73,
   "id": "584e06bc",
   "metadata": {},
   "outputs": [
    {
     "data": {
      "text/plain": [
       "['@account', '@banana', '@dragondragon']"
      ]
     },
     "execution_count": 73,
     "metadata": {},
     "output_type": "execute_result"
    }
   ],
   "source": [
    "filter_accounts(accounts, min_followers, max_followers)"
   ]
  },
  {
   "cell_type": "code",
   "execution_count": 84,
   "id": "747937a5",
   "metadata": {},
   "outputs": [
    {
     "name": "stdout",
     "output_type": "stream",
     "text": [
      "НА ЧТО НУЖЕН ЭКИПАЖ В ГОРОДЕ ГДЕ НЕТ И ЧЕТЫРЕХ ТЫСЯЧ ЖИТЕЛЕЙ ДОЛОЙ ПАПУ ДЕЛА С РИМОМ ЗАПУТЫВАЛИСЬ Я ЗА ЦЕЗАРЯ И ТОЛЬКО ЗА ЦЕЗАРЯ И ТД И ТД\n"
     ]
    }
   ],
   "source": [
    "from string import punctuation\n",
    "new_st = ''\n",
    "st = \"На что нужен экипаж в городе, где нет и четырех тысяч жителей? Долой папу! (Дела с Римом запутывались.) Я за Цезаря, и только за Цезаря. И т.д. и т.д.\"\n",
    "for i in st:\n",
    "    if i in punctuation:\n",
    "        i = ''\n",
    "    new_st += i.upper()\n",
    "print(new_st)"
   ]
  },
  {
   "cell_type": "code",
   "execution_count": 92,
   "id": "4768188d",
   "metadata": {},
   "outputs": [
    {
     "name": "stdout",
     "output_type": "stream",
     "text": [
      "4\n",
      "6.283185307179586\n"
     ]
    }
   ],
   "source": [
    "from math import pi, sqrt\n",
    "i = int(input())\n",
    "d = sqrt(i)\n",
    "p = pi * d\n",
    "print(p)"
   ]
  },
  {
   "cell_type": "code",
   "execution_count": 89,
   "id": "b9971b54",
   "metadata": {},
   "outputs": [
    {
     "name": "stdout",
     "output_type": "stream",
     "text": [
      "4\n"
     ]
    },
    {
     "data": {
      "text/plain": [
       "2.0"
      ]
     },
     "execution_count": 89,
     "metadata": {},
     "output_type": "execute_result"
    }
   ],
   "source": [
    "from math import pi, sqrt\n",
    "i = int(input())\n",
    "n = sqrt(i)\n",
    "n"
   ]
  },
  {
   "cell_type": "code",
   "execution_count": 103,
   "id": "755d2413",
   "metadata": {},
   "outputs": [
    {
     "name": "stdout",
     "output_type": "stream",
     "text": [
      "['mkmk', '20', 'Москва', 'ВШЭ']\n"
     ]
    }
   ],
   "source": [
    "t = ['Марат', '20', 'Москва', 'ВШЭ']\n",
    "t[0] = 'mkmk'\n",
    "print(t)"
   ]
  },
  {
   "cell_type": "code",
   "execution_count": 105,
   "id": "edb7eb53",
   "metadata": {},
   "outputs": [],
   "source": [
    "def changer(i, n, t):\n",
    "    i[n] = t\n",
    "    return i"
   ]
  },
  {
   "cell_type": "code",
   "execution_count": 119,
   "id": "3ad20865",
   "metadata": {},
   "outputs": [
    {
     "data": {
      "text/plain": [
       "6"
      ]
     },
     "execution_count": 119,
     "metadata": {},
     "output_type": "execute_result"
    }
   ],
   "source": [
    "from calendar import weekday\n",
    "import datetime as dt\n",
    "import string as str\n",
    "d = '16-02-1997'.split('-')\n",
    "dt.date(int(d[2]), int(d[1]), int(d[0])).weekday()\n",
    "\n",
    "\n"
   ]
  },
  {
   "cell_type": "code",
   "execution_count": 125,
   "id": "35412dac",
   "metadata": {},
   "outputs": [],
   "source": [
    "from calendar import weekday\n",
    "import datetime as dt\n",
    "\n",
    "def is_birthday_weekend(d, year):\n",
    "    d = d.split('-')\n",
    "    nm = dt.date(int(year), int(d[1]), int(d[0])).weekday()\n",
    "    if nm in (5,6):\n",
    "        return 'Ура, выходной в День рождения!'\n",
    "    else:\n",
    "        return 'В День рождения придется поработать.'\n",
    "\n",
    "\n",
    "    "
   ]
  },
  {
   "cell_type": "code",
   "execution_count": 126,
   "id": "5c8cfd89",
   "metadata": {},
   "outputs": [
    {
     "data": {
      "text/plain": [
       "'Ура, выходной в День рождения!'"
      ]
     },
     "execution_count": 126,
     "metadata": {},
     "output_type": "execute_result"
    }
   ],
   "source": [
    "is_birthday_weekend('14-11-1995', 2020)"
   ]
  },
  {
   "cell_type": "code",
   "execution_count": null,
   "id": "fc8c6e9c",
   "metadata": {},
   "outputs": [],
   "source": []
  },
  {
   "cell_type": "code",
   "execution_count": 127,
   "id": "fff8065c",
   "metadata": {},
   "outputs": [],
   "source": [
    "def multiples_50(cnt):\n",
    "    if int(cnt) % 50 == 0:\n",
    "        return 'Банкомат может выдать эту сумму'\n",
    "    else:\n",
    "        return 'Банкомат не может выдать эту сумму'"
   ]
  },
  {
   "cell_type": "code",
   "execution_count": 130,
   "id": "08e78d40",
   "metadata": {},
   "outputs": [
    {
     "data": {
      "text/plain": [
       "'Банкомат может выдать эту сумму'"
      ]
     },
     "execution_count": 130,
     "metadata": {},
     "output_type": "execute_result"
    }
   ],
   "source": [
    "multiples_50(550)"
   ]
  },
  {
   "cell_type": "code",
   "execution_count": null,
   "id": "f394915f",
   "metadata": {},
   "outputs": [],
   "source": [
    "def group_goods(lst):\n",
    "    \n",
    "    "
   ]
  },
  {
   "cell_type": "code",
   "execution_count": 165,
   "id": "11b56d41",
   "metadata": {},
   "outputs": [
    {
     "name": "stdout",
     "output_type": "stream",
     "text": [
      "{'молочные продукты': 'молоко'}\n",
      "{'молочные продукты': 'молоко', 'овощи': 'помидоры'}\n",
      "{'молочные продукты': 'молоко', 'овощи': 'огурцы'}\n",
      "{'молочные продукты': 'творог', 'овощи': 'огурцы'}\n",
      "{'молочные продукты': 'сыр', 'овощи': 'огурцы'}\n"
     ]
    }
   ],
   "source": [
    "lst = ['молоко; молочные продукты', 'помидоры; овощи', 'огурцы; овощи', 'творог; молочные продукты', 'сыр; молочные продукты']\n",
    "\n",
    "dic = {}\n",
    "\n",
    "for i in lst:\n",
    "    n = (i.split('; '))\n",
    "    dic[n[1]] = n[0] \n",
    "    print(dic)"
   ]
  },
  {
   "cell_type": "code",
   "execution_count": 167,
   "id": "5d8e7ca7",
   "metadata": {},
   "outputs": [
    {
     "name": "stdout",
     "output_type": "stream",
     "text": [
      "молоко молочные продукты\n",
      "помидоры овощи\n",
      "огурцы овощи\n",
      "творог молочные продукты\n",
      "сыр молочные продукты\n"
     ]
    }
   ],
   "source": [
    "lst = ['молоко; молочные продукты', 'помидоры; овощи', 'огурцы; овощи', 'творог; молочные продукты', 'сыр; молочные продукты']\n",
    "\n",
    "dic = {}\n",
    "\n",
    "for i in lst:\n",
    "    n = (i.split('; '))\n",
    "    print(n[0], n[1])"
   ]
  },
  {
   "cell_type": "code",
   "execution_count": null,
   "id": "63c63aaf",
   "metadata": {},
   "outputs": [],
   "source": []
  }
 ],
 "metadata": {
  "kernelspec": {
   "display_name": "Python 3 (ipykernel)",
   "language": "python",
   "name": "python3"
  },
  "language_info": {
   "codemirror_mode": {
    "name": "ipython",
    "version": 3
   },
   "file_extension": ".py",
   "mimetype": "text/x-python",
   "name": "python",
   "nbconvert_exporter": "python",
   "pygments_lexer": "ipython3",
   "version": "3.9.12"
  }
 },
 "nbformat": 4,
 "nbformat_minor": 5
}
