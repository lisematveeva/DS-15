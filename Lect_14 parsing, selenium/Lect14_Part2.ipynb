{
 "cells": [
  {
   "cell_type": "markdown",
   "id": "3e258d77",
   "metadata": {},
   "source": [
    " # Парсинг данных и анализ. Кассовые сборы фильмов и бюджеты\n",
    " \n",
    "Поработаем с данными о бюджетах фильмов и финансовых показателях с помощью сайта [The Numbers](https://www.the-numbers.com/movie/budgets/all)."
   ]
  },
  {
   "cell_type": "code",
   "execution_count": null,
   "id": "e4f71ccc",
   "metadata": {},
   "outputs": [],
   "source": [
    "!pip install fake_useragent"
   ]
  },
  {
   "cell_type": "code",
   "execution_count": 1,
   "id": "bc04ff69",
   "metadata": {},
   "outputs": [],
   "source": [
    "# импортируйте нужные библиотеки\n",
    "import requests\n",
    "from bs4 import BeautifulSoup\n",
    "import pandas as pd\n",
    "from fake_useragent import UserAgent\n",
    "from tqdm import tqdm\n",
    "import matplotlib\n",
    "%matplotlib inline "
   ]
  },
  {
   "cell_type": "code",
   "execution_count": 2,
   "id": "6efbb20e",
   "metadata": {},
   "outputs": [],
   "source": [
    "import warnings\n",
    "warnings.filterwarnings(\"ignore\")"
   ]
  },
  {
   "cell_type": "markdown",
   "id": "09b9db02",
   "metadata": {},
   "source": [
    "### Парсинг данных"
   ]
  },
  {
   "cell_type": "code",
   "execution_count": 3,
   "id": "48c45760",
   "metadata": {},
   "outputs": [
    {
     "name": "stdout",
     "output_type": "stream",
     "text": [
      "<Response [403]>\n"
     ]
    }
   ],
   "source": [
    "req = requests.get('https://www.the-numbers.com/movie/budgets/all')\n",
    "print(req)"
   ]
  },
  {
   "cell_type": "markdown",
   "id": "7c855e28",
   "metadata": {},
   "source": [
    "Мы впервые сталкиваемся с тем, что сервер не отдает нам данные по запросу. Но и из этой ситуации есть выход! Библиотека `fake_useragent`."
   ]
  },
  {
   "cell_type": "code",
   "execution_count": 4,
   "id": "16449db2",
   "metadata": {},
   "outputs": [],
   "source": [
    "ua = UserAgent()\n",
    "headers = {'User-Agent': ua.chrome}"
   ]
  },
  {
   "cell_type": "code",
   "execution_count": 5,
   "id": "05994a6d",
   "metadata": {},
   "outputs": [
    {
     "name": "stdout",
     "output_type": "stream",
     "text": [
      "<Response [200]>\n"
     ]
    }
   ],
   "source": [
    "req = requests.get('https://www.the-numbers.com/movie/budgets/all', headers=headers)\n",
    "print(req)"
   ]
  },
  {
   "cell_type": "code",
   "execution_count": 6,
   "id": "127a0aa7",
   "metadata": {},
   "outputs": [],
   "source": [
    "soup = BeautifulSoup(req.text, 'html')"
   ]
  },
  {
   "cell_type": "code",
   "execution_count": 7,
   "id": "780ad5c4",
   "metadata": {},
   "outputs": [],
   "source": [
    "df = pd.read_html(str(soup.find('table')))[0]"
   ]
  },
  {
   "cell_type": "code",
   "execution_count": 8,
   "id": "e7e36820",
   "metadata": {
    "collapsed": true
   },
   "outputs": [
    {
     "name": "stdout",
     "output_type": "stream",
     "text": [
      "Help on function read_html in module pandas.io.html:\n",
      "\n",
      "read_html(io: 'FilePath | ReadBuffer[str]', match: 'str | Pattern' = '.+', flavor: 'str | None' = None, header: 'int | Sequence[int] | None' = None, index_col: 'int | Sequence[int] | None' = None, skiprows: 'int | Sequence[int] | slice | None' = None, attrs: 'dict[str, str] | None' = None, parse_dates: 'bool' = False, thousands: 'str | None' = ',', encoding: 'str | None' = None, decimal: 'str' = '.', converters: 'dict | None' = None, na_values=None, keep_default_na: 'bool' = True, displayed_only: 'bool' = True) -> 'list[DataFrame]'\n",
      "    Read HTML tables into a ``list`` of ``DataFrame`` objects.\n",
      "    \n",
      "    Parameters\n",
      "    ----------\n",
      "    io : str, path object, or file-like object\n",
      "        String, path object (implementing ``os.PathLike[str]``), or file-like\n",
      "        object implementing a string ``read()`` function.\n",
      "        The string can represent a URL or the HTML itself. Note that\n",
      "        lxml only accepts the http, ftp and file url protocols. If you have a\n",
      "        URL that starts with ``'https'`` you might try removing the ``'s'``.\n",
      "    \n",
      "    match : str or compiled regular expression, optional\n",
      "        The set of tables containing text matching this regex or string will be\n",
      "        returned. Unless the HTML is extremely simple you will probably need to\n",
      "        pass a non-empty string here. Defaults to '.+' (match any non-empty\n",
      "        string). The default value will return all tables contained on a page.\n",
      "        This value is converted to a regular expression so that there is\n",
      "        consistent behavior between Beautiful Soup and lxml.\n",
      "    \n",
      "    flavor : str, optional\n",
      "        The parsing engine to use. 'bs4' and 'html5lib' are synonymous with\n",
      "        each other, they are both there for backwards compatibility. The\n",
      "        default of ``None`` tries to use ``lxml`` to parse and if that fails it\n",
      "        falls back on ``bs4`` + ``html5lib``.\n",
      "    \n",
      "    header : int or list-like, optional\n",
      "        The row (or list of rows for a :class:`~pandas.MultiIndex`) to use to\n",
      "        make the columns headers.\n",
      "    \n",
      "    index_col : int or list-like, optional\n",
      "        The column (or list of columns) to use to create the index.\n",
      "    \n",
      "    skiprows : int, list-like or slice, optional\n",
      "        Number of rows to skip after parsing the column integer. 0-based. If a\n",
      "        sequence of integers or a slice is given, will skip the rows indexed by\n",
      "        that sequence.  Note that a single element sequence means 'skip the nth\n",
      "        row' whereas an integer means 'skip n rows'.\n",
      "    \n",
      "    attrs : dict, optional\n",
      "        This is a dictionary of attributes that you can pass to use to identify\n",
      "        the table in the HTML. These are not checked for validity before being\n",
      "        passed to lxml or Beautiful Soup. However, these attributes must be\n",
      "        valid HTML table attributes to work correctly. For example, ::\n",
      "    \n",
      "            attrs = {'id': 'table'}\n",
      "    \n",
      "        is a valid attribute dictionary because the 'id' HTML tag attribute is\n",
      "        a valid HTML attribute for *any* HTML tag as per `this document\n",
      "        <https://html.spec.whatwg.org/multipage/dom.html#global-attributes>`__. ::\n",
      "    \n",
      "            attrs = {'asdf': 'table'}\n",
      "    \n",
      "        is *not* a valid attribute dictionary because 'asdf' is not a valid\n",
      "        HTML attribute even if it is a valid XML attribute.  Valid HTML 4.01\n",
      "        table attributes can be found `here\n",
      "        <http://www.w3.org/TR/REC-html40/struct/tables.html#h-11.2>`__. A\n",
      "        working draft of the HTML 5 spec can be found `here\n",
      "        <https://html.spec.whatwg.org/multipage/tables.html>`__. It contains the\n",
      "        latest information on table attributes for the modern web.\n",
      "    \n",
      "    parse_dates : bool, optional\n",
      "        See :func:`~read_csv` for more details.\n",
      "    \n",
      "    thousands : str, optional\n",
      "        Separator to use to parse thousands. Defaults to ``','``.\n",
      "    \n",
      "    encoding : str, optional\n",
      "        The encoding used to decode the web page. Defaults to ``None``.``None``\n",
      "        preserves the previous encoding behavior, which depends on the\n",
      "        underlying parser library (e.g., the parser library will try to use\n",
      "        the encoding provided by the document).\n",
      "    \n",
      "    decimal : str, default '.'\n",
      "        Character to recognize as decimal point (e.g. use ',' for European\n",
      "        data).\n",
      "    \n",
      "    converters : dict, default None\n",
      "        Dict of functions for converting values in certain columns. Keys can\n",
      "        either be integers or column labels, values are functions that take one\n",
      "        input argument, the cell (not column) content, and return the\n",
      "        transformed content.\n",
      "    \n",
      "    na_values : iterable, default None\n",
      "        Custom NA values.\n",
      "    \n",
      "    keep_default_na : bool, default True\n",
      "        If na_values are specified and keep_default_na is False the default NaN\n",
      "        values are overridden, otherwise they're appended to.\n",
      "    \n",
      "    displayed_only : bool, default True\n",
      "        Whether elements with \"display: none\" should be parsed.\n",
      "    \n",
      "    Returns\n",
      "    -------\n",
      "    dfs\n",
      "        A list of DataFrames.\n",
      "    \n",
      "    See Also\n",
      "    --------\n",
      "    read_csv : Read a comma-separated values (csv) file into DataFrame.\n",
      "    \n",
      "    Notes\n",
      "    -----\n",
      "    Before using this function you should read the :ref:`gotchas about the\n",
      "    HTML parsing libraries <io.html.gotchas>`.\n",
      "    \n",
      "    Expect to do some cleanup after you call this function. For example, you\n",
      "    might need to manually assign column names if the column names are\n",
      "    converted to NaN when you pass the `header=0` argument. We try to assume as\n",
      "    little as possible about the structure of the table and push the\n",
      "    idiosyncrasies of the HTML contained in the table to the user.\n",
      "    \n",
      "    This function searches for ``<table>`` elements and only for ``<tr>``\n",
      "    and ``<th>`` rows and ``<td>`` elements within each ``<tr>`` or ``<th>``\n",
      "    element in the table. ``<td>`` stands for \"table data\". This function\n",
      "    attempts to properly handle ``colspan`` and ``rowspan`` attributes.\n",
      "    If the function has a ``<thead>`` argument, it is used to construct\n",
      "    the header, otherwise the function attempts to find the header within\n",
      "    the body (by putting rows with only ``<th>`` elements into the header).\n",
      "    \n",
      "    Similar to :func:`~read_csv` the `header` argument is applied\n",
      "    **after** `skiprows` is applied.\n",
      "    \n",
      "    This function will *always* return a list of :class:`DataFrame` *or*\n",
      "    it will fail, e.g., it will *not* return an empty list.\n",
      "    \n",
      "    Examples\n",
      "    --------\n",
      "    See the :ref:`read_html documentation in the IO section of the docs\n",
      "    <io.read_html>` for some examples of reading in HTML tables.\n",
      "\n"
     ]
    }
   ],
   "source": [
    "help(pd.read_html)"
   ]
  },
  {
   "cell_type": "code",
   "execution_count": 9,
   "id": "3756aa5c",
   "metadata": {},
   "outputs": [
    {
     "data": {
      "text/html": [
       "<div>\n",
       "<style scoped>\n",
       "    .dataframe tbody tr th:only-of-type {\n",
       "        vertical-align: middle;\n",
       "    }\n",
       "\n",
       "    .dataframe tbody tr th {\n",
       "        vertical-align: top;\n",
       "    }\n",
       "\n",
       "    .dataframe thead th {\n",
       "        text-align: right;\n",
       "    }\n",
       "</style>\n",
       "<table border=\"1\" class=\"dataframe\">\n",
       "  <thead>\n",
       "    <tr style=\"text-align: right;\">\n",
       "      <th></th>\n",
       "      <th>Unnamed: 0</th>\n",
       "      <th>ReleaseDate</th>\n",
       "      <th>Movie</th>\n",
       "      <th>ProductionBudget</th>\n",
       "      <th>DomesticGross</th>\n",
       "      <th>WorldwideGross</th>\n",
       "    </tr>\n",
       "  </thead>\n",
       "  <tbody>\n",
       "    <tr>\n",
       "      <th>0</th>\n",
       "      <td>1</td>\n",
       "      <td>Dec 9, 2022</td>\n",
       "      <td>Avatar: The Way of Water</td>\n",
       "      <td>$460,000,000</td>\n",
       "      <td>$684,075,767</td>\n",
       "      <td>$2,319,591,720</td>\n",
       "    </tr>\n",
       "    <tr>\n",
       "      <th>1</th>\n",
       "      <td>2</td>\n",
       "      <td>Apr 23, 2019</td>\n",
       "      <td>Avengers: Endgame</td>\n",
       "      <td>$400,000,000</td>\n",
       "      <td>$858,373,000</td>\n",
       "      <td>$2,788,912,285</td>\n",
       "    </tr>\n",
       "    <tr>\n",
       "      <th>2</th>\n",
       "      <td>3</td>\n",
       "      <td>May 20, 2011</td>\n",
       "      <td>Pirates of the Caribbean: On Stranger Tides</td>\n",
       "      <td>$379,000,000</td>\n",
       "      <td>$241,071,802</td>\n",
       "      <td>$1,045,713,802</td>\n",
       "    </tr>\n",
       "    <tr>\n",
       "      <th>3</th>\n",
       "      <td>4</td>\n",
       "      <td>Apr 22, 2015</td>\n",
       "      <td>Avengers: Age of Ultron</td>\n",
       "      <td>$365,000,000</td>\n",
       "      <td>$459,005,868</td>\n",
       "      <td>$1,395,316,979</td>\n",
       "    </tr>\n",
       "    <tr>\n",
       "      <th>4</th>\n",
       "      <td>5</td>\n",
       "      <td>May 17, 2023</td>\n",
       "      <td>Fast X</td>\n",
       "      <td>$340,000,000</td>\n",
       "      <td>$146,126,015</td>\n",
       "      <td>$714,581,860</td>\n",
       "    </tr>\n",
       "    <tr>\n",
       "      <th>...</th>\n",
       "      <td>...</td>\n",
       "      <td>...</td>\n",
       "      <td>...</td>\n",
       "      <td>...</td>\n",
       "      <td>...</td>\n",
       "      <td>...</td>\n",
       "    </tr>\n",
       "    <tr>\n",
       "      <th>95</th>\n",
       "      <td>96</td>\n",
       "      <td>Feb 28, 2020</td>\n",
       "      <td>Onward</td>\n",
       "      <td>$200,000,000</td>\n",
       "      <td>$61,555,145</td>\n",
       "      <td>$133,357,601</td>\n",
       "    </tr>\n",
       "    <tr>\n",
       "      <th>96</th>\n",
       "      <td>97</td>\n",
       "      <td>Nov 22, 2023</td>\n",
       "      <td>Napoleon</td>\n",
       "      <td>$200,000,000</td>\n",
       "      <td>$61,303,315</td>\n",
       "      <td>$213,480,993</td>\n",
       "    </tr>\n",
       "    <tr>\n",
       "      <th>97</th>\n",
       "      <td>98</td>\n",
       "      <td>Dec 16, 2020</td>\n",
       "      <td>Wonder Woman 1984</td>\n",
       "      <td>$200,000,000</td>\n",
       "      <td>$46,801,036</td>\n",
       "      <td>$166,360,232</td>\n",
       "    </tr>\n",
       "    <tr>\n",
       "      <th>98</th>\n",
       "      <td>99</td>\n",
       "      <td>Sep 4, 2020</td>\n",
       "      <td>Mulan</td>\n",
       "      <td>$200,000,000</td>\n",
       "      <td>$0</td>\n",
       "      <td>$69,973,540</td>\n",
       "    </tr>\n",
       "    <tr>\n",
       "      <th>99</th>\n",
       "      <td>100</td>\n",
       "      <td>Jul 2, 2021</td>\n",
       "      <td>The Tomorrow War</td>\n",
       "      <td>$200,000,000</td>\n",
       "      <td>$0</td>\n",
       "      <td>$19,220,000</td>\n",
       "    </tr>\n",
       "  </tbody>\n",
       "</table>\n",
       "<p>100 rows × 6 columns</p>\n",
       "</div>"
      ],
      "text/plain": [
       "    Unnamed: 0   ReleaseDate                                        Movie  \\\n",
       "0            1   Dec 9, 2022                     Avatar: The Way of Water   \n",
       "1            2  Apr 23, 2019                            Avengers: Endgame   \n",
       "2            3  May 20, 2011  Pirates of the Caribbean: On Stranger Tides   \n",
       "3            4  Apr 22, 2015                      Avengers: Age of Ultron   \n",
       "4            5  May 17, 2023                                       Fast X   \n",
       "..         ...           ...                                          ...   \n",
       "95          96  Feb 28, 2020                                       Onward   \n",
       "96          97  Nov 22, 2023                                     Napoleon   \n",
       "97          98  Dec 16, 2020                            Wonder Woman 1984   \n",
       "98          99   Sep 4, 2020                                        Mulan   \n",
       "99         100   Jul 2, 2021                             The Tomorrow War   \n",
       "\n",
       "   ProductionBudget DomesticGross  WorldwideGross  \n",
       "0      $460,000,000  $684,075,767  $2,319,591,720  \n",
       "1      $400,000,000  $858,373,000  $2,788,912,285  \n",
       "2      $379,000,000  $241,071,802  $1,045,713,802  \n",
       "3      $365,000,000  $459,005,868  $1,395,316,979  \n",
       "4      $340,000,000  $146,126,015    $714,581,860  \n",
       "..              ...           ...             ...  \n",
       "95     $200,000,000   $61,555,145    $133,357,601  \n",
       "96     $200,000,000   $61,303,315    $213,480,993  \n",
       "97     $200,000,000   $46,801,036    $166,360,232  \n",
       "98     $200,000,000            $0     $69,973,540  \n",
       "99     $200,000,000            $0     $19,220,000  \n",
       "\n",
       "[100 rows x 6 columns]"
      ]
     },
     "execution_count": 9,
     "metadata": {},
     "output_type": "execute_result"
    }
   ],
   "source": [
    "df"
   ]
  },
  {
   "cell_type": "markdown",
   "id": "d2fd54c0",
   "metadata": {},
   "source": [
    "Спарсим все данные по ссылке выше."
   ]
  },
  {
   "cell_type": "code",
   "execution_count": 26,
   "id": "cdae1958",
   "metadata": {},
   "outputs": [
    {
     "name": "stderr",
     "output_type": "stream",
     "text": [
      "100%|███████████████████████████████████████████| 64/64 [03:29<00:00,  3.27s/it]\n"
     ]
    }
   ],
   "source": [
    "main = pd.DataFrame()\n",
    "\n",
    "for i in tqdm(range(1, 65)):\n",
    "    req = requests.get(f'https://www.the-numbers.com/movie/budgets/all/{i}01', headers=headers)\n",
    "    soup = BeautifulSoup(req.text, 'html')\n",
    "    table = soup.find('table')\n",
    "    df1 = pd.read_html(str(table))[0]\n",
    "    main = pd.concat([main, df1])"
   ]
  },
  {
   "cell_type": "code",
   "execution_count": 27,
   "id": "c8a5f52a",
   "metadata": {},
   "outputs": [],
   "source": [
    "df = pd.concat([df, main])"
   ]
  },
  {
   "cell_type": "code",
   "execution_count": 28,
   "id": "26fbbda6",
   "metadata": {},
   "outputs": [],
   "source": [
    "df = df.set_index('Unnamed: 0')"
   ]
  },
  {
   "cell_type": "code",
   "execution_count": 29,
   "id": "be429202",
   "metadata": {},
   "outputs": [
    {
     "data": {
      "text/plain": [
       "(6434, 5)"
      ]
     },
     "execution_count": 29,
     "metadata": {},
     "output_type": "execute_result"
    }
   ],
   "source": [
    "df.shape"
   ]
  },
  {
   "cell_type": "markdown",
   "id": "a4152d7e",
   "metadata": {},
   "source": [
    "### EDA\n",
    "\n",
    "* Сколько строк и столбцов содержит набор данных?\n",
    "* Присутствуют ли значения NaN?\n",
    "* Есть ли дублирующиеся строки?\n",
    "* Какие типы данных столбцов?"
   ]
  },
  {
   "cell_type": "code",
   "execution_count": 30,
   "id": "343d59c5",
   "metadata": {},
   "outputs": [
    {
     "data": {
      "text/plain": [
       "False"
      ]
     },
     "execution_count": 30,
     "metadata": {},
     "output_type": "execute_result"
    }
   ],
   "source": [
    "# ваш код\n",
    "df.isna().values.any()"
   ]
  },
  {
   "cell_type": "code",
   "execution_count": 31,
   "id": "9b02bb5e",
   "metadata": {
    "scrolled": true
   },
   "outputs": [
    {
     "data": {
      "text/plain": [
       "False"
      ]
     },
     "execution_count": 31,
     "metadata": {},
     "output_type": "execute_result"
    }
   ],
   "source": [
    "df.duplicated().values.any()"
   ]
  },
  {
   "cell_type": "code",
   "execution_count": null,
   "id": "cbab8707",
   "metadata": {},
   "outputs": [],
   "source": [
    "?df.dropna"
   ]
  },
  {
   "cell_type": "code",
   "execution_count": null,
   "id": "fb019103",
   "metadata": {},
   "outputs": [],
   "source": [
    "?df.drop_duplicates"
   ]
  },
  {
   "cell_type": "code",
   "execution_count": 32,
   "id": "3cf837a9",
   "metadata": {},
   "outputs": [
    {
     "name": "stdout",
     "output_type": "stream",
     "text": [
      "<class 'pandas.core.frame.DataFrame'>\n",
      "Int64Index: 6434 entries, 1 to 6434\n",
      "Data columns (total 5 columns):\n",
      " #   Column            Non-Null Count  Dtype \n",
      "---  ------            --------------  ----- \n",
      " 0   ReleaseDate       6434 non-null   object\n",
      " 1   Movie             6434 non-null   object\n",
      " 2   ProductionBudget  6434 non-null   object\n",
      " 3   DomesticGross     6434 non-null   object\n",
      " 4   WorldwideGross    6434 non-null   object\n",
      "dtypes: object(5)\n",
      "memory usage: 301.6+ KB\n"
     ]
    }
   ],
   "source": [
    "df.info()"
   ]
  },
  {
   "cell_type": "markdown",
   "id": "60bf75ae",
   "metadata": {},
   "source": [
    "### Перевод данных\n",
    "\n",
    "Переводим столбцы в нужные типы данных"
   ]
  },
  {
   "cell_type": "code",
   "execution_count": 33,
   "id": "a46eb39c",
   "metadata": {},
   "outputs": [
    {
     "data": {
      "text/plain": [
       "['ReleaseDate', 'Movie', 'ProductionBudget', 'DomesticGross', 'WorldwideGross']"
      ]
     },
     "execution_count": 33,
     "metadata": {},
     "output_type": "execute_result"
    }
   ],
   "source": [
    "my_cols = list(df.columns)\n",
    "my_cols"
   ]
  },
  {
   "cell_type": "code",
   "execution_count": null,
   "id": "da43a069",
   "metadata": {},
   "outputs": [],
   "source": [
    "cols = ['ProductionBudget', 'DomesticGross', 'WorldwideGross']\n",
    "\n",
    "for col in cols:\n",
    "    df[col] = df[col].str.replace('$', '')\n",
    "    df[col] = df[col].str.replace(',', '')\n",
    "    df[col] = pd.to_numeric(df[col])"
   ]
  },
  {
   "cell_type": "code",
   "execution_count": 38,
   "id": "f3a0bb9a",
   "metadata": {},
   "outputs": [
    {
     "name": "stdout",
     "output_type": "stream",
     "text": [
      "<class 'pandas.core.frame.DataFrame'>\n",
      "Int64Index: 6434 entries, 1 to 6434\n",
      "Data columns (total 5 columns):\n",
      " #   Column            Non-Null Count  Dtype \n",
      "---  ------            --------------  ----- \n",
      " 0   ReleaseDate       6434 non-null   object\n",
      " 1   Movie             6434 non-null   object\n",
      " 2   ProductionBudget  6434 non-null   int64 \n",
      " 3   DomesticGross     6434 non-null   int64 \n",
      " 4   WorldwideGross    6434 non-null   int64 \n",
      "dtypes: int64(3), object(2)\n",
      "memory usage: 301.6+ KB\n"
     ]
    }
   ],
   "source": [
    "df.info()"
   ]
  },
  {
   "cell_type": "markdown",
   "id": "718b07f7",
   "metadata": {},
   "source": [
    "### Описательная статистика\n",
    "\n",
    "* Какой средний бюджет фильмов в наборе данных?\n",
    "* Какой средний мировой доход фильмов?\n",
    "* Какие минимальные показатели мирового и локального дохода фильмов?\n",
    "* Какие самый высокий бюджет и самый высокий мировой доход среди фильмов?\n",
    "* Какой доход принесли фильмы с самым низким и самым высоким бюджетом?"
   ]
  },
  {
   "cell_type": "code",
   "execution_count": 51,
   "id": "0d99b702",
   "metadata": {},
   "outputs": [
    {
     "data": {
      "text/html": [
       "<div>\n",
       "<style scoped>\n",
       "    .dataframe tbody tr th:only-of-type {\n",
       "        vertical-align: middle;\n",
       "    }\n",
       "\n",
       "    .dataframe tbody tr th {\n",
       "        vertical-align: top;\n",
       "    }\n",
       "\n",
       "    .dataframe thead th {\n",
       "        text-align: right;\n",
       "    }\n",
       "</style>\n",
       "<table border=\"1\" class=\"dataframe\">\n",
       "  <thead>\n",
       "    <tr style=\"text-align: right;\">\n",
       "      <th></th>\n",
       "      <th>ProductionBudget</th>\n",
       "      <th>DomesticGross</th>\n",
       "      <th>WorldwideGross</th>\n",
       "    </tr>\n",
       "  </thead>\n",
       "  <tbody>\n",
       "    <tr>\n",
       "      <th>count</th>\n",
       "      <td>6,434.00</td>\n",
       "      <td>6,434.00</td>\n",
       "      <td>6,434.00</td>\n",
       "    </tr>\n",
       "    <tr>\n",
       "      <th>mean</th>\n",
       "      <td>32,493,886.84</td>\n",
       "      <td>41,954,185.26</td>\n",
       "      <td>93,284,689.47</td>\n",
       "    </tr>\n",
       "    <tr>\n",
       "      <th>std</th>\n",
       "      <td>43,755,883.27</td>\n",
       "      <td>71,929,639.07</td>\n",
       "      <td>186,045,067.85</td>\n",
       "    </tr>\n",
       "    <tr>\n",
       "      <th>min</th>\n",
       "      <td>86.00</td>\n",
       "      <td>0.00</td>\n",
       "      <td>0.00</td>\n",
       "    </tr>\n",
       "    <tr>\n",
       "      <th>25%</th>\n",
       "      <td>5,000,000.00</td>\n",
       "      <td>1,084,873.75</td>\n",
       "      <td>3,747,858.75</td>\n",
       "    </tr>\n",
       "    <tr>\n",
       "      <th>50%</th>\n",
       "      <td>17,000,000.00</td>\n",
       "      <td>16,083,016.50</td>\n",
       "      <td>27,147,670.00</td>\n",
       "    </tr>\n",
       "    <tr>\n",
       "      <th>75%</th>\n",
       "      <td>40,000,000.00</td>\n",
       "      <td>51,566,931.75</td>\n",
       "      <td>96,671,373.00</td>\n",
       "    </tr>\n",
       "    <tr>\n",
       "      <th>max</th>\n",
       "      <td>460,000,000.00</td>\n",
       "      <td>936,662,225.00</td>\n",
       "      <td>2,923,706,026.00</td>\n",
       "    </tr>\n",
       "  </tbody>\n",
       "</table>\n",
       "</div>"
      ],
      "text/plain": [
       "       ProductionBudget  DomesticGross   WorldwideGross\n",
       "count          6,434.00       6,434.00         6,434.00\n",
       "mean      32,493,886.84  41,954,185.26    93,284,689.47\n",
       "std       43,755,883.27  71,929,639.07   186,045,067.85\n",
       "min               86.00           0.00             0.00\n",
       "25%        5,000,000.00   1,084,873.75     3,747,858.75\n",
       "50%       17,000,000.00  16,083,016.50    27,147,670.00\n",
       "75%       40,000,000.00  51,566,931.75    96,671,373.00\n",
       "max      460,000,000.00 936,662,225.00 2,923,706,026.00"
      ]
     },
     "execution_count": 51,
     "metadata": {},
     "output_type": "execute_result"
    }
   ],
   "source": [
    "# ваш код\n",
    "pd.options.display.float_format = '{:,.2f}'.format\n",
    "\n",
    "df.describe()"
   ]
  },
  {
   "cell_type": "code",
   "execution_count": null,
   "id": "da187720",
   "metadata": {},
   "outputs": [],
   "source": [
    "# ваш код"
   ]
  },
  {
   "cell_type": "markdown",
   "id": "1e064a94",
   "metadata": {},
   "source": [
    "### Фильмы, потерявшие деньги\n",
    "\n",
    "* Какой процент фильмов, в которых затраты на производство превысили мировой доход?"
   ]
  },
  {
   "cell_type": "code",
   "execution_count": null,
   "id": "8a17f246",
   "metadata": {},
   "outputs": [],
   "source": [
    "# ваш код"
   ]
  }
 ],
 "metadata": {
  "kernelspec": {
   "display_name": "Python 3 (ipykernel)",
   "language": "python",
   "name": "python3"
  },
  "language_info": {
   "codemirror_mode": {
    "name": "ipython",
    "version": 3
   },
   "file_extension": ".py",
   "mimetype": "text/x-python",
   "name": "python",
   "nbconvert_exporter": "python",
   "pygments_lexer": "ipython3",
   "version": "3.9.7"
  }
 },
 "nbformat": 4,
 "nbformat_minor": 5
}
