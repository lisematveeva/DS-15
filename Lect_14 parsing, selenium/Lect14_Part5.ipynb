{
 "cells": [
  {
   "cell_type": "markdown",
   "id": "8dc732bb",
   "metadata": {},
   "source": [
    "## Пример авторизации на сайтах через Selenium"
   ]
  },
  {
   "cell_type": "code",
   "execution_count": 1,
   "id": "07127da6",
   "metadata": {},
   "outputs": [],
   "source": [
    "from selenium import webdriver\n",
    "from selenium.webdriver.support.ui import WebDriverWait\n",
    "from selenium.webdriver.common.by import By"
   ]
  },
  {
   "cell_type": "code",
   "execution_count": 2,
   "id": "13dd0bf6",
   "metadata": {},
   "outputs": [],
   "source": [
    "from passw_et import PASSW, LOGIN\n",
    "\n",
    "username = LOGIN\n",
    "password = PASSW"
   ]
  },
  {
   "cell_type": "code",
   "execution_count": 3,
   "id": "62a42361",
   "metadata": {},
   "outputs": [],
   "source": [
    "# инициализировать окно Chrome\n",
    "driver = webdriver.Chrome()"
   ]
  },
  {
   "cell_type": "code",
   "execution_count": 4,
   "id": "f5ad9ca1",
   "metadata": {},
   "outputs": [],
   "source": [
    "# перейти на страницу входа\n",
    "driver.get(\"https://et.hse.ru/login/hseloginfull.php\")"
   ]
  },
  {
   "cell_type": "code",
   "execution_count": 5,
   "id": "08fb1868",
   "metadata": {},
   "outputs": [],
   "source": [
    "# найти поле имени пользователя / электронной почты и отправить само имя пользователя в поле ввода\n",
    "driver.find_element(By.ID, \"username\").send_keys(username)"
   ]
  },
  {
   "cell_type": "code",
   "execution_count": 6,
   "id": "766f3cde",
   "metadata": {},
   "outputs": [],
   "source": [
    "# найти поле ввода пароля и также вставить пароль\n",
    "driver.find_element(By.ID, \"password\").send_keys(password)"
   ]
  },
  {
   "cell_type": "code",
   "execution_count": 7,
   "id": "31bfe668",
   "metadata": {},
   "outputs": [],
   "source": [
    "# нажмите кнопку входа в систему\n",
    "driver.find_element(By.ID, \"loginbtn\").click()"
   ]
  }
 ],
 "metadata": {
  "kernelspec": {
   "display_name": "Python 3 (ipykernel)",
   "language": "python",
   "name": "python3"
  },
  "language_info": {
   "codemirror_mode": {
    "name": "ipython",
    "version": 3
   },
   "file_extension": ".py",
   "mimetype": "text/x-python",
   "name": "python",
   "nbconvert_exporter": "python",
   "pygments_lexer": "ipython3",
   "version": "3.9.12"
  }
 },
 "nbformat": 4,
 "nbformat_minor": 5
}
