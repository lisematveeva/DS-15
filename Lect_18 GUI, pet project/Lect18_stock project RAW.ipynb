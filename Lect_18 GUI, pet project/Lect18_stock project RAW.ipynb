{
 "cells": [
  {
   "cell_type": "markdown",
   "id": "5668a6ef",
   "metadata": {},
   "source": [
    "# Pet-project «Криптовалюты: стоимость и новостной фон»\n",
    "\n",
    "Реализуем программу, которая будет проверять стоимость криптовалюты и предлагать последние новости о ней."
   ]
  },
  {
   "cell_type": "code",
   "execution_count": null,
   "id": "3ab67d97",
   "metadata": {},
   "outputs": [],
   "source": [
    "import requests\n",
    "import datetime\n",
    "from textblob import TextBlob"
   ]
  },
  {
   "cell_type": "markdown",
   "id": "d323fb38",
   "metadata": {},
   "source": [
    "## Шаг 1.  Добываем данные о стоимости биткоина\n",
    "\n",
    "Воспользуйтесь сервисом CoinCap https://docs.coincap.io/"
   ]
  },
  {
   "cell_type": "code",
   "execution_count": null,
   "id": "c88bdfaf",
   "metadata": {},
   "outputs": [],
   "source": [
    "# сделайте запрос к API по соответствующему протоколу\n",
    "\n",
    "\n",
    "# сохраните полученные данные в переменную hist\n",
    "\n"
   ]
  },
  {
   "cell_type": "code",
   "execution_count": null,
   "id": "d8094e36",
   "metadata": {},
   "outputs": [],
   "source": [
    "# найдите цену биткоина за вчера\n"
   ]
  },
  {
   "cell_type": "code",
   "execution_count": null,
   "id": "e1dcd59f",
   "metadata": {
    "scrolled": true
   },
   "outputs": [],
   "source": [
    "# найдите цену биткоина за позавчера\n"
   ]
  },
  {
   "cell_type": "code",
   "execution_count": null,
   "id": "1edf7c59",
   "metadata": {},
   "outputs": [],
   "source": [
    "# вычислите изменения в процентах стоимости биткоина\n"
   ]
  },
  {
   "cell_type": "markdown",
   "id": "da4f4c70",
   "metadata": {},
   "source": [
    "## Шаг 2. Добываем новости о биткоине"
   ]
  },
  {
   "cell_type": "markdown",
   "id": "82f777bd",
   "metadata": {},
   "source": [
    "Для этого воспользуемся сервисом: https://newsapi.org/\n",
    "\n",
    "Еще один вариант делать запросы к API – это создать словарь (например, `news_params`), в который вы зададите нужные параметры из API, а затем вложите их аргументом в `requests.get(url, params=news_params)`"
   ]
  },
  {
   "cell_type": "code",
   "execution_count": null,
   "id": "989f81dd",
   "metadata": {},
   "outputs": [],
   "source": [
    "# получите ваш API-ключ и сохраните его в переменную NEWS_API\n"
   ]
  },
  {
   "cell_type": "code",
   "execution_count": null,
   "id": "9f7d1573",
   "metadata": {},
   "outputs": [],
   "source": [
    "# с помощью библиотеки datetime создайте две переменных: \n",
    "# yesterday (дата вчера) и day_before_yest (дата позавчера)\n"
   ]
  },
  {
   "cell_type": "code",
   "execution_count": null,
   "id": "1ea4661b",
   "metadata": {},
   "outputs": [],
   "source": [
    "# сохраните необходимые для поиска параметры в словарь news_params\n",
    "\n",
    "\n",
    "# сделайте запрос к API с указанными параметрами\n",
    "\n"
   ]
  },
  {
   "cell_type": "code",
   "execution_count": null,
   "id": "241dd189",
   "metadata": {},
   "outputs": [],
   "source": [
    "# выгрузите первые 10 статей, изучите структуру\n"
   ]
  },
  {
   "cell_type": "markdown",
   "id": "a463be87",
   "metadata": {},
   "source": [
    "## Шаг 3. Смотрим на тональность новостей"
   ]
  },
  {
   "cell_type": "markdown",
   "id": "48b18b22",
   "metadata": {},
   "source": [
    "Для этого воспользуемся уже знакомой нам библиотекой textblob"
   ]
  },
  {
   "cell_type": "code",
   "execution_count": null,
   "id": "ca896d9e",
   "metadata": {},
   "outputs": [],
   "source": [
    "# найдите полярность и сентиментальность для всех 10 статей\n"
   ]
  },
  {
   "cell_type": "markdown",
   "id": "9733ab70",
   "metadata": {},
   "source": [
    "## Шаг 4. Делаем GUI для обзора криптовалют"
   ]
  },
  {
   "cell_type": "code",
   "execution_count": null,
   "id": "a84431b2",
   "metadata": {},
   "outputs": [],
   "source": [
    "# импортируем все нужные библиотеки\n",
    "from tkinter import *\n",
    "from tkinter import ttk\n",
    "import requests\n",
    "import datetime\n",
    "from textblob import TextBlob\n",
    "import webbrowser as wb\n",
    "\n",
    "### --------------- ФУНКЦИЯ, КОТОРАЯ БУДЕТ ВЫВОДИТЬ ИНФОРМАЦИЮ --------------- ###\n",
    "\n",
    "def selected(event):\n",
    "    # сохраняем выбор пользователя в selection\n",
    "    selection = combobox.get()\n",
    "    \n",
    "    ### ------- ПОИСК СТОИМОСТИ КРИПТОВАЛЮТЫ ------- ###\n",
    "    \n",
    "    # 3. сделайте запрос к API с указанием выбранной криптовалюты\n",
    "    \n",
    "    # 4. посчитайте разницу в процентах за 2 предыдущих дня и сохраните в переменную diff_percent\n",
    "    \n",
    "    \n",
    "    if diff_percent < 0:\n",
    "        symb = '🔻'\n",
    "    else:\n",
    "        symb = '🔺'\n",
    "        \n",
    "    # 5. добавьте Лейбл с указанием изменения стоимости за сутки \n",
    "    # сетка – строка 1, колонка 0, объединение 2 ячеек\n",
    "    \n",
    "        \n",
    "    ### ------- ПОИСК НОВОСТЕЙ ------- ###    \n",
    "      \n",
    "    # 6. сохраните параметры в словарь news_params\n",
    "    # обратите внимание, что теперь у нас есть несколько возможных валют для поиска\n",
    "\n",
    "    # 7. сделайте запрос к API с новостями\n",
    "\n",
    "    # 8. сохраните первые 10 новостей\n",
    "    \n",
    "    # 9. сохраните первые 10 новостей в список кортежей formatted_articles [(заголовок, ссылка, полярность)]\n",
    "    \n",
    "    ### ------- ВЫВОД НОВОСТЕЙ В ТАБЛИЦУ ------- ###  \n",
    "    \n",
    "    # определяем данные для отображения\n",
    "    table_news = formatted_articles\n",
    "\n",
    "    # определяем столбцы\n",
    "    columns = (\"title\", \"url\", \"polarity\")\n",
    "\n",
    "    # создаем таблицу\n",
    "    tree = ttk.Treeview(columns=columns, show=\"headings\")\n",
    "    tree.grid(row=3, column=0, columnspan=3)\n",
    "\n",
    "    # определяем заголовки\n",
    "    tree.heading(\"title\", text=\"Заголовок\")\n",
    "    tree.heading(\"url\", text=\"Ссылка\")\n",
    "    tree.heading(\"polarity\", text=\"Полярность\")\n",
    "    \n",
    "    # настраиваем столбцы\n",
    "    tree.column(\"#1\", width=500)\n",
    "    tree.column(\"#2\", width=100)\n",
    "    tree.column(\"#3\", width=50)\n",
    "\n",
    "    # добавляем данные в таблицу\n",
    "    for tn in table_news:\n",
    "        tree.insert(\"\", END, values=tn)\n",
    "        \n",
    "    # добавляем функцию, которая будет открывать по клику статьи    \n",
    "    def open_link(event):\n",
    "        tree = event.widget  # получаем виджет\n",
    "        item = tree.item(tree.focus())  # получаем строку, которую выбрал человек\n",
    "        link = item['values'][1]  # получаем ссылку из строки\n",
    "        wb.open_new_tab(link)  # открываем ссылку в браузере\n",
    "\n",
    "    tree.bind('<<TreeviewSelect>>', open_link) # скрепляем таблицу с функцией выше\n",
    "\n",
    "### --------------- ИНИЦИАЛИЗАЦИЯ ОКНА --------------- ###\n",
    "    \n",
    "# 1. инициализируем окно\n",
    "\n",
    "\n",
    "# 2. создаем лейбл для выбора криптовалюты\n",
    "\n",
    "\n",
    "# создаем Combobox (выпадающий список)\n",
    "curr = [\"bitcoin\", \"ethereum\", \"dogecoin\"]\n",
    "combobox = ttk.Combobox(values=curr)\n",
    "combobox.grid(row=0, column=1)\n",
    "combobox.bind(\"<<ComboboxSelected>>\", selected) # привязываем выбор элемента к созданию информации о нем\n",
    "\n",
    "# запускаем окно\n",
    "window.mainloop()"
   ]
  }
 ],
 "metadata": {
  "kernelspec": {
   "display_name": "Python 3 (ipykernel)",
   "language": "python",
   "name": "python3"
  },
  "language_info": {
   "codemirror_mode": {
    "name": "ipython",
    "version": 3
   },
   "file_extension": ".py",
   "mimetype": "text/x-python",
   "name": "python",
   "nbconvert_exporter": "python",
   "pygments_lexer": "ipython3",
   "version": "3.9.7"
  }
 },
 "nbformat": 4,
 "nbformat_minor": 5
}
